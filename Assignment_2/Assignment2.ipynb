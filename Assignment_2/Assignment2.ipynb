{
  "nbformat": 4,
  "nbformat_minor": 0,
  "metadata": {
    "colab": {
      "name": "Assignment2.ipynb",
      "version": "0.3.2",
      "provenance": []
    },
    "kernelspec": {
      "name": "python3",
      "display_name": "Python 3"
    }
  },
  "cells": [
    {
      "metadata": {
        "id": "KSQ8JX-LyO52",
        "colab_type": "code",
        "colab": {}
      },
      "cell_type": "code",
      "source": [
        "from zipfile import ZipFile"
      ],
      "execution_count": 0,
      "outputs": []
    },
    {
      "metadata": {
        "id": "dGL2GS_lyncR",
        "colab_type": "code",
        "outputId": "7f5912b9-c2e6-40c0-998c-e6ff2df3d366",
        "colab": {
          "base_uri": "https://localhost:8080/",
          "height": 151
        }
      },
      "cell_type": "code",
      "source": [
        "import os\n",
        "!pip install mxnet\n",
        "import mxnet as mx\n",
        "from mxnet import nd, autograd, gluon, ndarray\n",
        "import numpy as np\n",
        "import matplotlib.pyplot as plt\n",
        "from sklearn import model_selection\n",
        "import sys\n",
        "import cv2\n",
        "from datetime import datetime\n",
        "from sklearn.model_selection import train_test_split\n",
        "from __future__ import print_function"
      ],
      "execution_count": 2,
      "outputs": [
        {
          "output_type": "stream",
          "text": [
            "Requirement already satisfied: mxnet in /usr/local/lib/python3.6/dist-packages (1.3.1)\n",
            "Requirement already satisfied: graphviz<0.9.0,>=0.8.1 in /usr/local/lib/python3.6/dist-packages (from mxnet) (0.8.4)\n",
            "Requirement already satisfied: requests>=2.20.0 in /usr/local/lib/python3.6/dist-packages (from mxnet) (2.21.0)\n",
            "Requirement already satisfied: numpy<1.15.0,>=1.8.2 in /usr/local/lib/python3.6/dist-packages (from mxnet) (1.14.6)\n",
            "Requirement already satisfied: urllib3<1.25,>=1.21.1 in /usr/local/lib/python3.6/dist-packages (from requests>=2.20.0->mxnet) (1.22)\n",
            "Requirement already satisfied: idna<2.9,>=2.5 in /usr/local/lib/python3.6/dist-packages (from requests>=2.20.0->mxnet) (2.6)\n",
            "Requirement already satisfied: chardet<3.1.0,>=3.0.2 in /usr/local/lib/python3.6/dist-packages (from requests>=2.20.0->mxnet) (3.0.4)\n",
            "Requirement already satisfied: certifi>=2017.4.17 in /usr/local/lib/python3.6/dist-packages (from requests>=2.20.0->mxnet) (2018.11.29)\n"
          ],
          "name": "stdout"
        }
      ]
    },
    {
      "metadata": {
        "id": "mEaFKGlay7ys",
        "colab_type": "code",
        "outputId": "6aeef07c-0994-434d-be94-4888fd112ace",
        "colab": {
          "base_uri": "https://localhost:8080/",
          "height": 121
        }
      },
      "cell_type": "code",
      "source": [
        "mx.random.seed(1)\n",
        "ctx = mx.cpu()\n",
        "from google.colab import drive\n",
        "drive.mount('/content/drive',force_remount=True)"
      ],
      "execution_count": 3,
      "outputs": [
        {
          "output_type": "stream",
          "text": [
            "Go to this URL in a browser: https://accounts.google.com/o/oauth2/auth?client_id=947318989803-6bn6qk8qdgf4n4g3pfee6491hc0brc4i.apps.googleusercontent.com&redirect_uri=urn%3Aietf%3Awg%3Aoauth%3A2.0%3Aoob&scope=email%20https%3A%2F%2Fwww.googleapis.com%2Fauth%2Fdocs.test%20https%3A%2F%2Fwww.googleapis.com%2Fauth%2Fdrive%20https%3A%2F%2Fwww.googleapis.com%2Fauth%2Fdrive.photos.readonly%20https%3A%2F%2Fwww.googleapis.com%2Fauth%2Fpeopleapi.readonly&response_type=code\n",
            "\n",
            "Enter your authorization code:\n",
            "··········\n",
            "Mounted at /content/drive\n"
          ],
          "name": "stdout"
        }
      ]
    },
    {
      "metadata": {
        "id": "c_ZlftZYzrqk",
        "colab_type": "code",
        "colab": {}
      },
      "cell_type": "code",
      "source": [
        "class DataLoader(object):\n",
        "    def __init__(self):\n",
        "        DIR = '../MyDrive/data/'\n",
        "        pass\n",
        "   \n",
        "    # Returns images and labels corresponding for training and testing. Default mode is train.\n",
        "    # For retrieving test data pass mode as 'test' in function call.\n",
        "    def load_data(self, mode = 'train'):\n",
        "        label_filename = mode + '_labels'\n",
        "        image_filename = mode + '_images'\n",
        "        label_zip = '/content/drive/My Drive/data/' + label_filename + '.zip'\n",
        "        image_zip = '/content/drive/My Drive/data/' + image_filename + '.zip'\n",
        "        with ZipFile(label_zip, 'r') as lblzip:\n",
        "            labels = np.frombuffer(lblzip.read(label_filename), dtype=np.uint8, offset=8)\n",
        "        with ZipFile(image_zip, 'r') as imgzip:\n",
        "            images = np.frombuffer(imgzip.read(image_filename), dtype=np.uint8, offset=16).reshape(len(labels), 784)\n",
        "        return images, labels\n",
        "\n",
        "    def create_batches(self):\n",
        "        pass"
      ],
      "execution_count": 0,
      "outputs": []
    },
    {
      "metadata": {
        "id": "TAbVOZq9O1x2",
        "colab_type": "code",
        "colab": {}
      },
      "cell_type": "code",
      "source": [
        "class NN1(gluon.Block):\n",
        "\tdef __init__(self, **kwargs):\n",
        "\t\tsuper(NN1, self).__init__(**kwargs)\n",
        "\t\twith self.name_scope():\n",
        "\t\t\tself.dense0 = gluon.nn.Dense(512)\n",
        "\t\t\tself.dense1 = gluon.nn.Dense(128)\n",
        "\t\t\tself.dense2 = gluon.nn.Dense(64)\n",
        "\t\t\tself.dense3 = gluon.nn.Dense(32)\n",
        "\t\t\tself.dense4 = gluon.nn.Dense(16)\n",
        "\t\t\tself.dense5 = gluon.nn.Dense(10)\n",
        "\n",
        "\tdef forward(self, x):\n",
        "\t\tx = nd.relu(self.dense0(x))\n",
        "\t\tx = nd.relu(self.dense1(x))\n",
        "\t\tx = nd.relu(self.dense2(x))\n",
        "\t\tx = nd.relu(self.dense3(x))\n",
        "\t\tx = nd.relu(self.dense4(x))\n",
        "\n",
        "\t\tx = self.dense5(x)\n",
        "\t\treturn x\n",
        "\tdef backward(self):\n",
        "\t\tpass"
      ],
      "execution_count": 0,
      "outputs": []
    },
    {
      "metadata": {
        "id": "i4prTQ1z0Y5Q",
        "colab_type": "code",
        "colab": {}
      },
      "cell_type": "code",
      "source": [
        "class NN2(gluon.Block):\n",
        "\tdef __init__(self, **kwargs):\n",
        "\t\tsuper(NN2, self).__init__(**kwargs)\n",
        "\t\twith self.name_scope():\n",
        "\t\t\tself.dense0 = gluon.nn.Dense(1024)\n",
        "\t\t\tself.dense1 = gluon.nn.Dense(512)\n",
        "\t\t\tself.dense2 = gluon.nn.Dense(256)\n",
        "\t\t\tself.dense3 = gluon.nn.Dense(10)\n",
        "\n",
        "\tdef forward(self, x):\n",
        "\t\tx = nd.relu(self.dense0(x))\n",
        "\t\tx = nd.relu(self.dense1(x))\n",
        "\t\tx = nd.relu(self.dense2(x))\n",
        "\t\t\n",
        "\t\tx = self.dense3(x)\n",
        "\t\treturn x\n",
        "\tdef backward(self):\n",
        "\t\tpass"
      ],
      "execution_count": 0,
      "outputs": []
    },
    {
      "metadata": {
        "id": "ymt2rVm05JdM",
        "colab_type": "code",
        "colab": {}
      },
      "cell_type": "code",
      "source": [
        "  \n",
        "data_ctx = ctx\n",
        "model_ctx = ctx"
      ],
      "execution_count": 0,
      "outputs": []
    },
    {
      "metadata": {
        "id": "xx9IgqAQB-8S",
        "colab_type": "code",
        "colab": {}
      },
      "cell_type": "code",
      "source": [
        "images_train , labels_train = DataLoader().load_data(\"train\")\n",
        "images_test , labels_test = DataLoader().load_data(\"test\")  \n",
        "X_train, X_val, y_train, y_val = train_test_split(images_train, labels_train, test_size=0.30, random_state=42)\n",
        "\n",
        "\n",
        "batch_size = 64\n",
        "num_inputs = 784\n",
        "num_outputs = 10\n",
        "num_examples = 60000\n",
        "train_data = []\n",
        "for index,data in enumerate(X_train):\n",
        "    temp = y_train[index]\n",
        "    train_data.append((data,temp))\n",
        "    \n",
        "val_data = []\n",
        "for index,data in enumerate(X_val):\n",
        "    temp = y_val[index]\n",
        "    val_data.append((data,temp))\n",
        "    \n",
        "test_data = []\n",
        "for index,data in enumerate(images_test):\n",
        "    temp = labels_test[index]\n",
        "    test_data.append((data,temp))\n",
        "    \n",
        "train_data  = mx.gluon.data.DataLoader(train_data, batch_size,shuffle = True)\n",
        "val_data = mx.gluon.data.DataLoader(val_data, batch_size,shuffle = False)\n",
        "test_data = mx.gluon.data.DataLoader(test_data, batch_size,shuffle = False)"
      ],
      "execution_count": 0,
      "outputs": []
    },
    {
      "metadata": {
        "id": "WKmNHUpWGx7g",
        "colab_type": "code",
        "colab": {}
      },
      "cell_type": "code",
      "source": [
        "def evaluate_accuracy_train(data_iterator, net):\n",
        "    acc = mx.metric.Accuracy()\n",
        "    for i, (data, label) in enumerate(data_iterator):\n",
        "        data, label = transform(data,label)\n",
        "        data = data.as_in_context(model_ctx)\n",
        "        label = label.as_in_context(model_ctx)\n",
        "        output = net(data)\n",
        "        predictions = nd.argmax(output, axis=1)\n",
        "        acc.update(preds=predictions, labels=label)\n",
        "    return acc.get()[1]"
      ],
      "execution_count": 0,
      "outputs": []
    },
    {
      "metadata": {
        "id": "JnrKrABZGzb_",
        "colab_type": "code",
        "colab": {}
      },
      "cell_type": "code",
      "source": [
        "def transform(data, label):\n",
        "    return data.astype(np.float32)/255, label.astype(np.float32)"
      ],
      "execution_count": 0,
      "outputs": []
    },
    {
      "metadata": {
        "id": "AIQr_dMdG431",
        "colab_type": "code",
        "colab": {}
      },
      "cell_type": "code",
      "source": [
        "def evaluate_accuracy(data_iterator, net):\n",
        "    acc = mx.metric.Accuracy()\n",
        "    for i, (data, label) in enumerate(data_iterator):\n",
        "        cumulative_loss = 0\n",
        "        data, label = transform(data,label)\n",
        "        data = data.as_in_context(model_ctx)\n",
        "        label = label.as_in_context(model_ctx)\n",
        "        output = net(data)\n",
        "        loss = softmax_cross_entropy(output, label)\n",
        "        cumulative_loss += nd.sum(loss).asscalar()\n",
        "        predictions = nd.argmax(output, axis=1)\n",
        "        acc.update(preds=predictions, labels=label)\n",
        "    return acc.get()[1], cumulative_loss"
      ],
      "execution_count": 0,
      "outputs": []
    },
    {
      "metadata": {
        "id": "zIx9h6BKH0ag",
        "colab_type": "code",
        "colab": {}
      },
      "cell_type": "code",
      "source": [
        "net1 = NN1()\n",
        "net1.collect_params().initialize(mx.init.Normal(sigma=.1), ctx=model_ctx)\n",
        "softmax_cross_entropy = gluon.loss.SoftmaxCrossEntropyLoss()\n",
        "trainer = gluon.Trainer(net1.collect_params(), 'adam', {'learning_rate': .01})\n",
        "epochs = 50\n",
        "smoothing_constant = .01\n",
        "patience=3\n",
        "\n"
      ],
      "execution_count": 0,
      "outputs": []
    },
    {
      "metadata": {
        "id": "pbXrJMHDJ4_U",
        "colab_type": "code",
        "outputId": "7d421e66-3978-46a6-f378-79d5cea48476",
        "colab": {
          "base_uri": "https://localhost:8080/",
          "height": 218
        }
      },
      "cell_type": "code",
      "source": [
        "network_1_train_loss = []\n",
        "network_1_valid_loss = []\n",
        "for e in range(epochs):\n",
        "    cumulative_loss = 0\n",
        "    now = datetime.now()\n",
        "    for i, (data, label) in enumerate(train_data):\n",
        "        data , label = transform(data,label)\n",
        "        data = data.as_in_context(model_ctx)\n",
        "        label = label.as_in_context(model_ctx)\n",
        "\n",
        "        with autograd.record():\n",
        "            output = net1(data)\n",
        "            loss = softmax_cross_entropy(output, label)\n",
        "        loss.backward()\n",
        "        trainer.step(64)\n",
        "        cumulative_loss += nd.sum(loss).asscalar()\n",
        "\n",
        "\n",
        "    val_accuracy, v_loss = evaluate_accuracy(val_data, net1)\n",
        "    train_accuracy = evaluate_accuracy_train(train_data, net1)\n",
        "    later = datetime.now()\n",
        "    difference = (later-now).total_seconds()\n",
        "    network_1_train_loss.append(cumulative_loss/(num_examples*0.7))\n",
        "    network_1_valid_loss.append(v_loss/(num_examples*0.3))\n",
        "    print(\"Epoch %s. Loss: %s, Train_acc %s, Valid_acc %s, Valid_Loss %s, Time For Epoch(in secs) %s\" %(e, cumulative_loss/(num_examples*0.7), train_accuracy, val_accuracy, v_loss/(num_examples*0.3), difference))\n",
        "    \n",
        "    net1.save_parameters(\"N1.params\")\n",
        "    if e>0 and network_1_valid_loss[e]<=np.min([network_1_valid_loss[ep] for ep in np.arange(0,e).tolist()]):\n",
        "      print(\"Validation Loss reduced, saving weights....\")\n",
        "      net1.save_parameters(\"N1.params\")\n",
        "    if e+1>patience and np.sum(np.asarray([network_1_valid_loss[ep + 1] - network_1_valid_loss[ep] for ep in np.arange(e - patience,e).tolist()])>0)==patience:\n",
        "      break"
      ],
      "execution_count": 13,
      "outputs": [
        {
          "output_type": "stream",
          "text": [
            "Epoch 0. Loss: 0.6519539073592141, Train_acc 0.8053095238095238, Valid_acc 0.7998888888888889, Valid_Loss 0.0004911435974968804, Time For Epoch(in secs) 10.318821\n",
            "Epoch 1. Loss: 0.4688061541943323, Train_acc 0.8513333333333334, Valid_acc 0.8502222222222222, Valid_Loss 0.00034298584196302623, Time For Epoch(in secs) 24.57387\n",
            "Validation Loss reduced, saving weights....\n",
            "Epoch 2. Loss: 0.4160539436340332, Train_acc 0.8458333333333333, Valid_acc 0.8406666666666667, Valid_Loss 0.0006018995708889431, Time For Epoch(in secs) 24.280417\n",
            "Epoch 3. Loss: 0.4009205176376161, Train_acc 0.8627857142857143, Valid_acc 0.8578333333333333, Valid_Loss 0.00037753703859117296, Time For Epoch(in secs) 24.51856\n",
            "Epoch 4. Loss: 0.39150663996878127, Train_acc 0.8799523809523809, Valid_acc 0.8668333333333333, Valid_Loss 0.00024665798081292047, Time For Epoch(in secs) 25.216974\n",
            "Validation Loss reduced, saving weights....\n",
            "Epoch 5. Loss: 0.3777793420837039, Train_acc 0.8543095238095239, Valid_acc 0.843, Valid_Loss 0.00031390908029344346, Time For Epoch(in secs) 25.572682\n",
            "Epoch 6. Loss: 0.37364295890217736, Train_acc 0.8741428571428571, Valid_acc 0.8606111111111111, Valid_Loss 0.00026674641503228084, Time For Epoch(in secs) 26.05928\n",
            "Epoch 7. Loss: 0.38655041020824793, Train_acc 0.8706190476190476, Valid_acc 0.8555555555555555, Valid_Loss 0.00026188447740342884, Time For Epoch(in secs) 26.41534\n",
            "Epoch 8. Loss: 0.3830888187090556, Train_acc 0.8558809523809524, Valid_acc 0.8482777777777778, Valid_Loss 0.00029284286499023436, Time For Epoch(in secs) 26.566299\n",
            "Epoch 9. Loss: 0.37892014955338976, Train_acc 0.8753809523809524, Valid_acc 0.8652222222222222, Valid_Loss 0.0006309666103786893, Time For Epoch(in secs) 27.196203\n"
          ],
          "name": "stdout"
        }
      ]
    },
    {
      "metadata": {
        "id": "kr0MN4ANYdW1",
        "colab_type": "code",
        "outputId": "d5ad6b8d-a32e-4274-c902-c3f36c8bbfe9",
        "colab": {
          "base_uri": "https://localhost:8080/",
          "height": 362
        }
      },
      "cell_type": "code",
      "source": [
        "plt.figure(\"Image\")\n",
        "plt.title(\"Network 1 Loss vs Epoch\")\n",
        "network_1_valid_loss =  [float(i)/sum(network_1_valid_loss) for i in network_1_valid_loss]\n",
        "network_1_train_loss =  [float(i)/sum(network_1_train_loss) for i in network_1_train_loss]\n",
        "plt.plot(network_1_valid_loss, c=\"red\", label=\"Validation Loss\")\n",
        "plt.plot(network_1_train_loss, c=\"blue\", label = \"Training Loss\")\n",
        "plt.legend()\n",
        "plt.savefig('exp_'+str(\"Image\")+'.png')"
      ],
      "execution_count": 14,
      "outputs": [
        {
          "output_type": "display_data",
          "data": {
            "image/png": "[encoded data removed]",
            "text/plain": [
              "<Figure size 576x396 with 1 Axes>"
            ]
          },
          "metadata": {
            "tags": []
          }
        }
      ]
    },
    {
      "metadata": {
        "id": "_y0Y9zI5gkRz",
        "colab_type": "code",
        "outputId": "884a490c-5133-488a-c523-8fca28615e36",
        "colab": {
          "base_uri": "https://localhost:8080/",
          "height": 252
        }
      },
      "cell_type": "code",
      "source": [
        "net11 = NN1()\n",
        "net11.load_parameters(\"N1.params\")\n",
        "net11.collect_params()"
      ],
      "execution_count": 15,
      "outputs": [
        {
          "output_type": "execute_result",
          "data": {
            "text/plain": [
              "nn11_ (\n",
              "  Parameter nn11_dense0_weight (shape=(512, 784), dtype=float32)\n",
              "  Parameter nn11_dense0_bias (shape=(512,), dtype=float32)\n",
              "  Parameter nn11_dense1_weight (shape=(128, 512), dtype=float32)\n",
              "  Parameter nn11_dense1_bias (shape=(128,), dtype=float32)\n",
              "  Parameter nn11_dense2_weight (shape=(64, 128), dtype=float32)\n",
              "  Parameter nn11_dense2_bias (shape=(64,), dtype=float32)\n",
              "  Parameter nn11_dense3_weight (shape=(32, 64), dtype=float32)\n",
              "  Parameter nn11_dense3_bias (shape=(32,), dtype=float32)\n",
              "  Parameter nn11_dense4_weight (shape=(16, 32), dtype=float32)\n",
              "  Parameter nn11_dense4_bias (shape=(16,), dtype=float32)\n",
              "  Parameter nn11_dense5_weight (shape=(10, 16), dtype=float32)\n",
              "  Parameter nn11_dense5_bias (shape=(10,), dtype=float32)\n",
              ")"
            ]
          },
          "metadata": {
            "tags": []
          },
          "execution_count": 15
        }
      ]
    },
    {
      "metadata": {
        "id": "ZbfF9h8g5xzV",
        "colab_type": "code",
        "outputId": "cd8f1b3e-71a2-4d0b-c717-40963017792d",
        "colab": {
          "base_uri": "https://localhost:8080/",
          "height": 34
        }
      },
      "cell_type": "code",
      "source": [
        "cnt = 0\n",
        "accuracy = 0\n",
        "for i, (data, label) in enumerate(test_data):\n",
        "    data , label = transform(data,label)\n",
        "    data = data.as_in_context(model_ctx).reshape((-1, 784))\n",
        "    label = label.as_in_context(model_ctx)\n",
        "    with autograd.record():\n",
        "        output = net11(data)\n",
        "\n",
        "        acc = mx.metric.Accuracy()\n",
        "        acc.update(preds=nd.argmax(output,axis=1),labels=label)\n",
        "        #print(\"Test Accuracy : %f\"%acc.get()[1])\n",
        "        accuracy = accuracy + acc.get()[1]\n",
        "        cnt = cnt + 1\n",
        "\n",
        "print(\"Total Accuracy: \", float(accuracy/cnt))"
      ],
      "execution_count": 16,
      "outputs": [
        {
          "output_type": "stream",
          "text": [
            "Total Accuracy:  0.852109872611465\n"
          ],
          "name": "stdout"
        }
      ]
    },
    {
      "metadata": {
        "id": "ro2LvCOv6yjM",
        "colab_type": "code",
        "colab": {}
      },
      "cell_type": "code",
      "source": [
        "net2 = NN2()\n",
        "net2.collect_params().initialize(mx.init.Normal(sigma=.1), ctx=model_ctx)\n",
        "softmax_cross_entropy = gluon.loss.SoftmaxCrossEntropyLoss()\n",
        "trainer = gluon.Trainer(net2.collect_params(), 'adam', {'learning_rate': .01})\n",
        "epochs = 50\n",
        "smoothing_constant = .01\n",
        "patience=3"
      ],
      "execution_count": 0,
      "outputs": []
    },
    {
      "metadata": {
        "id": "HQvrYMv16-4s",
        "colab_type": "code",
        "outputId": "fac6c21c-02c2-4ef3-c68a-0ebedccdab5f",
        "colab": {
          "base_uri": "https://localhost:8080/",
          "height": 504
        }
      },
      "cell_type": "code",
      "source": [
        "network_2_train_loss = []\n",
        "network_2_valid_loss = []\n",
        "for e in range(epochs):\n",
        "    cumulative_loss = 0\n",
        "    now = datetime.now()\n",
        "    for i, (data, label) in enumerate(train_data):\n",
        "        data , label = transform(data,label)\n",
        "        data = data.as_in_context(model_ctx)\n",
        "        label = label.as_in_context(model_ctx)\n",
        "\n",
        "        with autograd.record():\n",
        "            output = net2(data)\n",
        "            loss = softmax_cross_entropy(output, label)\n",
        "        loss.backward()\n",
        "        trainer.step(64)\n",
        "        cumulative_loss += nd.sum(loss).asscalar()\n",
        "\n",
        "\n",
        "    val_accuracy, v_loss = evaluate_accuracy(val_data, net2)\n",
        "    train_accuracy = evaluate_accuracy_train(train_data, net2)\n",
        "    later = datetime.now()\n",
        "    difference = (later-now).total_seconds()\n",
        "    network_2_train_loss.append(cumulative_loss/(num_examples*0.7))\n",
        "    network_2_valid_loss.append(v_loss/(num_examples*0.3))\n",
        "    print(\"Epoch %s. Loss: %s, Train_acc %s, Valid_acc %s, Valid_Loss %s, Time For Epoch(in secs) %s\" %(e, cumulative_loss/(num_examples*0.7), train_accuracy, val_accuracy, v_loss/(num_examples*0.3), difference))\n",
        "    \n",
        "    net2.save_parameters(\"N2.params\")\n",
        "    if e>0 and network_2_valid_loss[e]<=np.min([network_2_valid_loss[ep] for ep in np.arange(0,e).tolist()]):\n",
        "      print(\"Validation Loss reduced, saving weights....\")\n",
        "      net2.save_parameters(\"N2.params\")\n",
        "    if e+1>patience and np.sum(np.asarray([network_2_valid_loss[ep + 1] - network_2_valid_loss[ep] for ep in np.arange(e - patience,e).tolist()])>0)==patience:\n",
        "      break"
      ],
      "execution_count": 24,
      "outputs": [
        {
          "output_type": "stream",
          "text": [
            "Epoch 0. Loss: 1.2065944905962263, Train_acc 0.8300238095238095, Valid_acc 0.8267777777777777, Valid_Loss 0.0006133640607198079, Time For Epoch(in secs) 27.006241\n",
            "Epoch 1. Loss: 0.45906996215525125, Train_acc 0.8555, Valid_acc 0.8503888888888889, Valid_Loss 0.0008170153829786512, Time For Epoch(in secs) 88.101731\n",
            "Epoch 2. Loss: 0.4181075647104354, Train_acc 0.8356666666666667, Valid_acc 0.8296111111111111, Valid_Loss 0.0004265083736843533, Time For Epoch(in secs) 85.621228\n",
            "Validation Loss reduced, saving weights....\n",
            "Epoch 3. Loss: 0.40168156603972116, Train_acc 0.8599285714285714, Valid_acc 0.8523888888888889, Valid_Loss 0.00034722518920898436, Time For Epoch(in secs) 86.946659\n",
            "Validation Loss reduced, saving weights....\n",
            "Epoch 4. Loss: 0.38335261028153556, Train_acc 0.8640476190476191, Valid_acc 0.8535555555555555, Valid_Loss 0.00034713782204522027, Time For Epoch(in secs) 87.060823\n",
            "Validation Loss reduced, saving weights....\n",
            "Epoch 5. Loss: 0.37776399954160056, Train_acc 0.8737857142857143, Valid_acc 0.8626666666666667, Valid_Loss 0.0004933483335706922, Time For Epoch(in secs) 87.265504\n",
            "Epoch 6. Loss: 0.3632432956922622, Train_acc 0.8771666666666667, Valid_acc 0.8643333333333333, Valid_Loss 0.0004348761240641276, Time For Epoch(in secs) 87.637596\n",
            "Epoch 7. Loss: 0.37966493966465903, Train_acc 0.8779523809523809, Valid_acc 0.8650555555555556, Valid_Loss 0.00020396799511379667, Time For Epoch(in secs) 87.737535\n",
            "Validation Loss reduced, saving weights....\n",
            "Epoch 8. Loss: 0.36723654132229944, Train_acc 0.8815, Valid_acc 0.8683888888888889, Valid_Loss 0.00020949839221106635, Time For Epoch(in secs) 88.215269\n",
            "Epoch 9. Loss: 0.36317169400623867, Train_acc 0.8789761904761905, Valid_acc 0.8656666666666667, Valid_Loss 0.00017137318187289768, Time For Epoch(in secs) 88.280571\n",
            "Validation Loss reduced, saving weights....\n",
            "Epoch 10. Loss: 0.3617300497917902, Train_acc 0.8799047619047619, Valid_acc 0.8638888888888889, Valid_Loss 0.00042962532573276096, Time For Epoch(in secs) 88.96964\n",
            "Epoch 11. Loss: 0.3571027119386764, Train_acc 0.8727142857142857, Valid_acc 0.8581666666666666, Valid_Loss 0.00011296746465894911, Time For Epoch(in secs) 89.084267\n",
            "Validation Loss reduced, saving weights....\n",
            "Epoch 12. Loss: 0.35104127779461086, Train_acc 0.8598571428571429, Valid_acc 0.8452777777777778, Valid_Loss 0.00020262703630659316, Time For Epoch(in secs) 89.700087\n",
            "Epoch 13. Loss: 0.3406325934784753, Train_acc 0.8876190476190476, Valid_acc 0.8689444444444444, Valid_Loss 0.0003559949927859836, Time For Epoch(in secs) 89.643851\n",
            "Epoch 14. Loss: 0.3497252298877353, Train_acc 0.8800714285714286, Valid_acc 0.8650555555555556, Valid_Loss 0.0002473680443233914, Time For Epoch(in secs) 90.223785\n",
            "Epoch 15. Loss: 0.34482542293412344, Train_acc 0.8779285714285714, Valid_acc 0.8617777777777778, Valid_Loss 0.0003333512677086724, Time For Epoch(in secs) 89.770972\n",
            "Epoch 16. Loss: 0.36301933835801625, Train_acc 0.8657857142857143, Valid_acc 0.8499444444444444, Valid_Loss 6.221140755547417e-05, Time For Epoch(in secs) 89.880364\n",
            "Validation Loss reduced, saving weights....\n",
            "Epoch 17. Loss: 0.34229109755016507, Train_acc 0.8848333333333334, Valid_acc 0.8641666666666666, Valid_Loss 0.00029540046056111656, Time For Epoch(in secs) 90.58197\n",
            "Epoch 18. Loss: 0.3305775287435168, Train_acc 0.8458809523809524, Valid_acc 0.8303888888888888, Valid_Loss 0.00023090455267164444, Time For Epoch(in secs) 89.855186\n",
            "Epoch 19. Loss: 0.3359490855478105, Train_acc 0.8826666666666667, Valid_acc 0.8640555555555556, Valid_Loss 0.0002819895214504666, Time For Epoch(in secs) 90.278661\n",
            "Epoch 20. Loss: 0.32052438258273264, Train_acc 0.8872142857142857, Valid_acc 0.8673888888888889, Valid_Loss 0.0002885687086317274, Time For Epoch(in secs) 89.702218\n",
            "Epoch 21. Loss: 0.3497635467222759, Train_acc 0.8951904761904762, Valid_acc 0.8723333333333333, Valid_Loss 0.0002906729910108778, Time For Epoch(in secs) 90.291537\n"
          ],
          "name": "stdout"
        }
      ]
    },
    {
      "metadata": {
        "id": "jCPKMdc59tCx",
        "colab_type": "code",
        "outputId": "56e086ff-e1ad-4cd5-bfdd-b3485cd1595b",
        "colab": {
          "base_uri": "https://localhost:8080/",
          "height": 362
        }
      },
      "cell_type": "code",
      "source": [
        "plt.figure(\"Image\")\n",
        "plt.title(\"Network 1 Loss vs Epoch\")\n",
        "network_2_valid_loss =  [float(i)/sum(network_2_valid_loss) for i in network_2_valid_loss]\n",
        "network_2_train_loss =  [float(i)/sum(network_2_train_loss) for i in network_2_train_loss]\n",
        "plt.plot(network_2_valid_loss, c=\"red\", label=\"Validation Loss\")\n",
        "plt.plot(network_2_train_loss, c=\"blue\", label = \"Training Loss\")\n",
        "plt.legend()\n",
        "plt.savefig('exp_'+str(\"Image\")+'.png')"
      ],
      "execution_count": 28,
      "outputs": [
        {
          "output_type": "display_data",
          "data": {
            "image/png": "[encoded data removed]",
            "text/plain": [
              "<Figure size 576x396 with 1 Axes>"
            ]
          },
          "metadata": {
            "tags": []
          }
        }
      ]
    },
    {
      "metadata": {
        "id": "atlVRWef90Qc",
        "colab_type": "code",
        "outputId": "45011023-e48d-4d3d-e871-c00b02be3a11",
        "colab": {
          "base_uri": "https://localhost:8080/",
          "height": 185
        }
      },
      "cell_type": "code",
      "source": [
        "net22 = NN2()\n",
        "net22.load_parameters(\"N2.params\")\n",
        "net22.collect_params()"
      ],
      "execution_count": 20,
      "outputs": [
        {
          "output_type": "execute_result",
          "data": {
            "text/plain": [
              "nn21_ (\n",
              "  Parameter nn21_dense0_weight (shape=(1024, 784), dtype=float32)\n",
              "  Parameter nn21_dense0_bias (shape=(1024,), dtype=float32)\n",
              "  Parameter nn21_dense1_weight (shape=(512, 1024), dtype=float32)\n",
              "  Parameter nn21_dense1_bias (shape=(512,), dtype=float32)\n",
              "  Parameter nn21_dense2_weight (shape=(256, 512), dtype=float32)\n",
              "  Parameter nn21_dense2_bias (shape=(256,), dtype=float32)\n",
              "  Parameter nn21_dense3_weight (shape=(10, 256), dtype=float32)\n",
              "  Parameter nn21_dense3_bias (shape=(10,), dtype=float32)\n",
              ")"
            ]
          },
          "metadata": {
            "tags": []
          },
          "execution_count": 20
        }
      ]
    },
    {
      "metadata": {
        "id": "cZgNsACn-Jn7",
        "colab_type": "code",
        "outputId": "deed68c2-6e8b-4a91-b9e7-a08e71d7ad90",
        "colab": {
          "base_uri": "https://localhost:8080/",
          "height": 34
        }
      },
      "cell_type": "code",
      "source": [
        "cnt = 0\n",
        "accuracy = 0\n",
        "for i, (data, label) in enumerate(test_data):\n",
        "    data , label = transform(data,label)\n",
        "    data = data.as_in_context(model_ctx).reshape((-1, 784))\n",
        "    label = label.as_in_context(model_ctx)\n",
        "    with autograd.record():\n",
        "        output = net22(data)\n",
        "\n",
        "        acc = mx.metric.Accuracy()\n",
        "        acc.update(preds=nd.argmax(output,axis=1),labels=label)\n",
        "        #print(\"Test Accuracy : %f\"%acc.get()[1])\n",
        "        accuracy = accuracy + acc.get()[1]\n",
        "        cnt = cnt + 1\n",
        "\n",
        "print(\"Total Accuracy: \", float(accuracy/cnt))"
      ],
      "execution_count": 21,
      "outputs": [
        {
          "output_type": "stream",
          "text": [
            "Total Accuracy:  0.8468351910828026\n"
          ],
          "name": "stdout"
        }
      ]
    },
    {
      "metadata": {
        "id": "u9PZevR-VGc2",
        "colab_type": "code",
        "colab": {}
      },
      "cell_type": "code",
      "source": [
        "net3 = NN2()\n",
        "net3.collect_params().initialize(mx.init.Xavier(rnd_type='uniform', factor_type='avg', magnitude=3), ctx=model_ctx)\n",
        "softmax_cross_entropy = gluon.loss.SoftmaxCrossEntropyLoss()\n",
        "trainer = gluon.Trainer(net3.collect_params(), 'adam', {'learning_rate': .01})\n",
        "epochs = 50\n",
        "smoothing_constant = .01\n",
        "patience=2"
      ],
      "execution_count": 0,
      "outputs": []
    },
    {
      "metadata": {
        "id": "bLaKma_UVInH",
        "colab_type": "code",
        "colab": {
          "base_uri": "https://localhost:8080/",
          "height": 168
        },
        "outputId": "120cda82-1119-48a8-9170-6fa8ddc899b5"
      },
      "cell_type": "code",
      "source": [
        "network_3_train_loss = []\n",
        "network_3_valid_loss = []\n",
        "for e in range(epochs):\n",
        "    cumulative_loss = 0\n",
        "    now = datetime.now()\n",
        "    for i, (data, label) in enumerate(train_data):\n",
        "        data , label = transform(data,label)\n",
        "        data = data.as_in_context(model_ctx)\n",
        "        label = label.as_in_context(model_ctx)\n",
        "\n",
        "        with autograd.record():\n",
        "            output = net3(data)\n",
        "            loss = softmax_cross_entropy(output, label)\n",
        "        loss.backward()\n",
        "        trainer.step(64)\n",
        "        cumulative_loss += nd.sum(loss).asscalar()\n",
        "\n",
        "\n",
        "    val_accuracy, v_loss = evaluate_accuracy(val_data, net3)\n",
        "    train_accuracy = evaluate_accuracy_train(train_data, net3)\n",
        "    later = datetime.now()\n",
        "    difference = (later-now).total_seconds()\n",
        "    network_3_train_loss.append(cumulative_loss/(num_examples*0.7))\n",
        "    network_3_valid_loss.append(v_loss/(num_examples*0.3))\n",
        "    print(\"Epoch %s. Loss: %s, Train_acc %s, Valid_acc %s, Valid_Loss %s, Time For Epoch(in secs) %s\" %(e, cumulative_loss/(num_examples*0.7), train_accuracy, val_accuracy, v_loss/(num_examples*0.3), difference))\n",
        "    \n",
        "    net3.save_parameters(\"N3.params\")\n",
        "    if e>0 and network_3_valid_loss[e]<=np.min([network_3_valid_loss[ep] for ep in np.arange(0,e).tolist()]):\n",
        "      print(\"Validation Loss reduced, saving weights....\")\n",
        "      net3.save_parameters(\"N3.params\")\n",
        "    if e+1>patience and np.sum(np.asarray([network_3_valid_loss[ep + 1] - network_3_valid_loss[ep] for ep in np.arange(e - patience,e).tolist()])>0)==patience:\n",
        "      break"
      ],
      "execution_count": 27,
      "outputs": [
        {
          "output_type": "stream",
          "text": [
            "Epoch 0. Loss: 0.6749432341711862, Train_acc 0.833452380952381, Valid_acc 0.8309444444444445, Valid_Loss 0.0007602826754252116, Time For Epoch(in secs) 26.554667\n",
            "Epoch 1. Loss: 0.48079439703623456, Train_acc 0.8449285714285715, Valid_acc 0.8392222222222222, Valid_Loss 0.0002931942939758301, Time For Epoch(in secs) 91.598277\n",
            "Validation Loss reduced, saving weights....\n",
            "Epoch 2. Loss: 0.44183927416233787, Train_acc 0.8536904761904762, Valid_acc 0.8495, Valid_Loss 0.00023496537738376195, Time For Epoch(in secs) 88.170595\n",
            "Validation Loss reduced, saving weights....\n",
            "Epoch 3. Loss: 0.41718406404767716, Train_acc 0.8533809523809524, Valid_acc 0.8478333333333333, Valid_Loss 0.0003833543724483914, Time For Epoch(in secs) 87.948102\n",
            "Epoch 4. Loss: 0.40785560185568676, Train_acc 0.8523095238095239, Valid_acc 0.8472222222222222, Valid_Loss 0.00033438693152533635, Time For Epoch(in secs) 88.707935\n",
            "Epoch 5. Loss: 0.39779642607484544, Train_acc 0.8569523809523809, Valid_acc 0.8499444444444444, Valid_Loss 0.00048647165298461916, Time For Epoch(in secs) 88.748529\n",
            "Epoch 6. Loss: 0.3984609133061909, Train_acc 0.8416190476190476, Valid_acc 0.8308333333333333, Valid_Loss 0.0005579341782463921, Time For Epoch(in secs) 89.768302\n"
          ],
          "name": "stdout"
        }
      ]
    },
    {
      "metadata": {
        "id": "cueqYBBBoYbh",
        "colab_type": "code",
        "colab": {
          "base_uri": "https://localhost:8080/",
          "height": 185
        },
        "outputId": "5c25681a-d653-477e-cb0b-a4a9a9ed429f"
      },
      "cell_type": "code",
      "source": [
        "net33 = NN2()\n",
        "net33.load_parameters(\"N3.params\")\n",
        "net33.collect_params()"
      ],
      "execution_count": 29,
      "outputs": [
        {
          "output_type": "execute_result",
          "data": {
            "text/plain": [
              "nn25_ (\n",
              "  Parameter nn25_dense0_weight (shape=(1024, 784), dtype=float32)\n",
              "  Parameter nn25_dense0_bias (shape=(1024,), dtype=float32)\n",
              "  Parameter nn25_dense1_weight (shape=(512, 1024), dtype=float32)\n",
              "  Parameter nn25_dense1_bias (shape=(512,), dtype=float32)\n",
              "  Parameter nn25_dense2_weight (shape=(256, 512), dtype=float32)\n",
              "  Parameter nn25_dense2_bias (shape=(256,), dtype=float32)\n",
              "  Parameter nn25_dense3_weight (shape=(10, 256), dtype=float32)\n",
              "  Parameter nn25_dense3_bias (shape=(10,), dtype=float32)\n",
              ")"
            ]
          },
          "metadata": {
            "tags": []
          },
          "execution_count": 29
        }
      ]
    },
    {
      "metadata": {
        "id": "quKAorMfoirN",
        "colab_type": "code",
        "colab": {
          "base_uri": "https://localhost:8080/",
          "height": 34
        },
        "outputId": "3abc6fb1-57a3-43dd-cb01-1d46b1e57586"
      },
      "cell_type": "code",
      "source": [
        "cnt = 0\n",
        "accuracy = 0\n",
        "for i, (data, label) in enumerate(test_data):\n",
        "    data , label = transform(data,label)\n",
        "    data = data.as_in_context(model_ctx).reshape((-1, 784))\n",
        "    label = label.as_in_context(model_ctx)\n",
        "    with autograd.record():\n",
        "        output = net33(data)\n",
        "\n",
        "        acc = mx.metric.Accuracy()\n",
        "        acc.update(preds=nd.argmax(output,axis=1),labels=label)\n",
        "        #print(\"Test Accuracy : %f\"%acc.get()[1])\n",
        "        accuracy = accuracy + acc.get()[1]\n",
        "        cnt = cnt + 1\n",
        "\n",
        "print(\"Total Accuracy: \", float(accuracy/cnt))"
      ],
      "execution_count": 30,
      "outputs": [
        {
          "output_type": "stream",
          "text": [
            "Total Accuracy:  0.8209593949044586\n"
          ],
          "name": "stdout"
        }
      ]
    },
    {
      "metadata": {
        "id": "aC39hiBiot5f",
        "colab_type": "code",
        "colab": {
          "base_uri": "https://localhost:8080/",
          "height": 362
        },
        "outputId": "29f6efcf-8c9e-48c4-eb66-fe2940fb6799"
      },
      "cell_type": "code",
      "source": [
        "plt.figure(\"Image\")\n",
        "plt.title(\"Network 1 Loss vs Epoch\")\n",
        "network_3_valid_loss =  [float(i)/sum(network_3_valid_loss) for i in network_3_valid_loss]\n",
        "network_3_train_loss =  [float(i)/sum(network_3_train_loss) for i in network_3_train_loss]\n",
        "plt.plot(network_3_valid_loss, c=\"red\", label=\"Validation Loss\")\n",
        "plt.plot(network_3_train_loss, c=\"blue\", label = \"Training Loss\")\n",
        "plt.legend()\n",
        "plt.savefig('exp_'+str(\"Image\")+'.png')"
      ],
      "execution_count": 31,
      "outputs": [
        {
          "output_type": "display_data",
          "data": {
            "image/png": "[encoded data removed]",
            "text/plain": [
              "<Figure size 576x396 with 1 Axes>"
            ]
          },
          "metadata": {
            "tags": []
          }
        }
      ]
    },
    {
      "metadata": {
        "id": "hmOu9LC0pCrs",
        "colab_type": "code",
        "colab": {}
      },
      "cell_type": "code",
      "source": [
        "net4 = NN2()\n",
        "net4.collect_params().initialize(mx.init.Orthogonal(scale=1.414, rand_type='uniform'), ctx=model_ctx)\n",
        "softmax_cross_entropy = gluon.loss.SoftmaxCrossEntropyLoss()\n",
        "trainer = gluon.Trainer(net4.collect_params(), 'adam', {'learning_rate': .01})\n",
        "epochs = 50\n",
        "smoothing_constant = .01\n",
        "patience=2"
      ],
      "execution_count": 0,
      "outputs": []
    },
    {
      "metadata": {
        "id": "FLCitAAEphvF",
        "colab_type": "code",
        "colab": {
          "base_uri": "https://localhost:8080/",
          "height": 319
        },
        "outputId": "dba99acf-6c04-42bd-ad4d-e315b36b1b77"
      },
      "cell_type": "code",
      "source": [
        "network_4_train_loss = []\n",
        "network_4_valid_loss = []\n",
        "for e in range(epochs):\n",
        "    cumulative_loss = 0\n",
        "    now = datetime.now()\n",
        "    for i, (data, label) in enumerate(train_data):\n",
        "        data , label = transform(data,label)\n",
        "        data = data.as_in_context(model_ctx)\n",
        "        label = label.as_in_context(model_ctx)\n",
        "\n",
        "        with autograd.record():\n",
        "            output = net4(data)\n",
        "            loss = softmax_cross_entropy(output, label)\n",
        "        loss.backward()\n",
        "        trainer.step(64)\n",
        "        cumulative_loss += nd.sum(loss).asscalar()\n",
        "\n",
        "\n",
        "    val_accuracy, v_loss = evaluate_accuracy(val_data, net4)\n",
        "    train_accuracy = evaluate_accuracy_train(train_data, net4)\n",
        "    later = datetime.now()\n",
        "    difference = (later-now).total_seconds()\n",
        "    network_4_train_loss.append(cumulative_loss/(num_examples*0.7))\n",
        "    network_4_valid_loss.append(v_loss/(num_examples*0.3))\n",
        "    print(\"Epoch %s. Loss: %s, Train_acc %s, Valid_acc %s, Valid_Loss %s, Time For Epoch(in secs) %s\" %(e, cumulative_loss/(num_examples*0.7), train_accuracy, val_accuracy, v_loss/(num_examples*0.3), difference))\n",
        "    \n",
        "    net4.save_parameters(\"N4.params\")\n",
        "    if e>0 and network_4_valid_loss[e]<=np.min([network_4_valid_loss[ep] for ep in np.arange(0,e).tolist()]):\n",
        "      print(\"Validation Loss reduced, saving weights....\")\n",
        "      net4.save_parameters(\"N4.params\")\n",
        "    if e+1>patience and np.sum(np.asarray([network_4_valid_loss[ep + 1] - network_4_valid_loss[ep] for ep in np.arange(e - patience,e).tolist()])>0)==patience:\n",
        "      break"
      ],
      "execution_count": 33,
      "outputs": [
        {
          "output_type": "stream",
          "text": [
            "Epoch 0. Loss: 0.6679745238167899, Train_acc 0.8027380952380953, Valid_acc 0.8021666666666667, Valid_Loss 0.0006075071758694119, Time For Epoch(in secs) 28.319845\n",
            "Epoch 1. Loss: 0.4633066315991538, Train_acc 0.8574285714285714, Valid_acc 0.8516111111111111, Valid_Loss 0.0005188758638170031, Time For Epoch(in secs) 91.200324\n",
            "Validation Loss reduced, saving weights....\n",
            "Epoch 2. Loss: 0.4270957571211315, Train_acc 0.8637619047619047, Valid_acc 0.8554444444444445, Valid_Loss 0.00040245413780212405, Time For Epoch(in secs) 87.08541\n",
            "Validation Loss reduced, saving weights....\n",
            "Epoch 3. Loss: 0.4065573130022912, Train_acc 0.864, Valid_acc 0.8579444444444444, Valid_Loss 0.00037681741184658477, Time For Epoch(in secs) 88.553071\n",
            "Validation Loss reduced, saving weights....\n",
            "Epoch 4. Loss: 0.40315924217587423, Train_acc 0.8508809523809524, Valid_acc 0.841, Valid_Loss 0.0004891299671596951, Time For Epoch(in secs) 88.955335\n",
            "Epoch 5. Loss: 0.4077845367590586, Train_acc 0.8737142857142857, Valid_acc 0.8613333333333333, Valid_Loss 0.0004269667201571994, Time For Epoch(in secs) 89.126655\n",
            "Epoch 6. Loss: 0.3807850763485545, Train_acc 0.8702619047619048, Valid_acc 0.8602222222222222, Valid_Loss 0.00028764822747972277, Time For Epoch(in secs) 89.793977\n",
            "Validation Loss reduced, saving weights....\n",
            "Epoch 7. Loss: 0.36762226588385444, Train_acc 0.8683333333333333, Valid_acc 0.8574444444444445, Valid_Loss 0.00015659119023217095, Time For Epoch(in secs) 90.286412\n",
            "Validation Loss reduced, saving weights....\n",
            "Epoch 8. Loss: 0.3746658973239717, Train_acc 0.8497142857142858, Valid_acc 0.8366111111111111, Valid_Loss 0.005794033898247613, Time For Epoch(in secs) 89.99177\n",
            "Epoch 9. Loss: 0.37986876692090715, Train_acc 0.8710238095238095, Valid_acc 0.8567777777777777, Valid_Loss 0.00042126350932651093, Time For Epoch(in secs) 90.069669\n",
            "Epoch 10. Loss: 0.36580112601461867, Train_acc 0.8737619047619047, Valid_acc 0.8618888888888889, Valid_Loss 0.0002670865323808458, Time For Epoch(in secs) 90.88425\n",
            "Epoch 11. Loss: 0.3612850735982259, Train_acc 0.8683333333333333, Valid_acc 0.8565555555555555, Valid_Loss 0.00028555652830335827, Time For Epoch(in secs) 90.44514\n",
            "Epoch 12. Loss: 0.3534135048048837, Train_acc 0.8789761904761905, Valid_acc 0.8629444444444444, Valid_Loss 0.0009194097518920899, Time For Epoch(in secs) 90.556395\n"
          ],
          "name": "stdout"
        }
      ]
    },
    {
      "metadata": {
        "id": "iKRp0bXbqCga",
        "colab_type": "code",
        "colab": {
          "base_uri": "https://localhost:8080/",
          "height": 362
        },
        "outputId": "718e4c15-5b1a-4e98-9049-9bd92f03efc4"
      },
      "cell_type": "code",
      "source": [
        "plt.figure(\"Image\")\n",
        "plt.title(\"Network 1 Loss vs Epoch\")\n",
        "network_4_valid_loss =  [float(i)/sum(network_4_valid_loss) for i in network_4_valid_loss]\n",
        "network_4_train_loss =  [float(i)/sum(network_4_train_loss) for i in network_4_train_loss]\n",
        "plt.plot(network_4_valid_loss, c=\"red\", label=\"Validation Loss\")\n",
        "plt.plot(network_4_train_loss, c=\"blue\", label = \"Training Loss\")\n",
        "plt.legend()\n",
        "plt.savefig('exp_'+str(\"Image\")+'.png')"
      ],
      "execution_count": 34,
      "outputs": [
        {
          "output_type": "display_data",
          "data": {
            "image/png": "[encoded data removed]",
            "text/plain": [
              "<Figure size 576x396 with 1 Axes>"
            ]
          },
          "metadata": {
            "tags": []
          }
        }
      ]
    },
    {
      "metadata": {
        "id": "yJCQC0NkwBIz",
        "colab_type": "code",
        "colab": {
          "base_uri": "https://localhost:8080/",
          "height": 185
        },
        "outputId": "a3fb509e-a99b-47d6-a403-850f1934e354"
      },
      "cell_type": "code",
      "source": [
        "net44 = NN2()\n",
        "net44.load_parameters(\"N4.params\")\n",
        "net44.collect_params()"
      ],
      "execution_count": 35,
      "outputs": [
        {
          "output_type": "execute_result",
          "data": {
            "text/plain": [
              "nn27_ (\n",
              "  Parameter nn27_dense0_weight (shape=(1024, 784), dtype=float32)\n",
              "  Parameter nn27_dense0_bias (shape=(1024,), dtype=float32)\n",
              "  Parameter nn27_dense1_weight (shape=(512, 1024), dtype=float32)\n",
              "  Parameter nn27_dense1_bias (shape=(512,), dtype=float32)\n",
              "  Parameter nn27_dense2_weight (shape=(256, 512), dtype=float32)\n",
              "  Parameter nn27_dense2_bias (shape=(256,), dtype=float32)\n",
              "  Parameter nn27_dense3_weight (shape=(10, 256), dtype=float32)\n",
              "  Parameter nn27_dense3_bias (shape=(10,), dtype=float32)\n",
              ")"
            ]
          },
          "metadata": {
            "tags": []
          },
          "execution_count": 35
        }
      ]
    },
    {
      "metadata": {
        "id": "MdBCDt8BwTTN",
        "colab_type": "code",
        "colab": {
          "base_uri": "https://localhost:8080/",
          "height": 34
        },
        "outputId": "7dc76d43-f2b4-408b-c398-e17ff2e21e83"
      },
      "cell_type": "code",
      "source": [
        "cnt = 0\n",
        "accuracy = 0\n",
        "for i, (data, label) in enumerate(test_data):\n",
        "    data , label = transform(data,label)\n",
        "    data = data.as_in_context(model_ctx).reshape((-1, 784))\n",
        "    label = label.as_in_context(model_ctx)\n",
        "    with autograd.record():\n",
        "        output = net44(data)\n",
        "\n",
        "        acc = mx.metric.Accuracy()\n",
        "        acc.update(preds=nd.argmax(output,axis=1),labels=label)\n",
        "        #print(\"Test Accuracy : %f\"%acc.get()[1])\n",
        "        accuracy = accuracy + acc.get()[1]\n",
        "        cnt = cnt + 1\n",
        "\n",
        "print(\"Total Accuracy: \", float(accuracy/cnt))"
      ],
      "execution_count": 36,
      "outputs": [
        {
          "output_type": "stream",
          "text": [
            "Total Accuracy:  0.8534036624203821\n"
          ],
          "name": "stdout"
        }
      ]
    },
    {
      "metadata": {
        "id": "LVmm8QRlwWNX",
        "colab_type": "code",
        "colab": {}
      },
      "cell_type": "code",
      "source": [
        "net5 = gluon.nn.Sequential()\n",
        "with net5.name_scope():\n",
        "    ###########################\n",
        "    # Adding first hidden layer\n",
        "    ###########################\n",
        "    net5.add(gluon.nn.Dense(1024, activation=\"relu\"))\n",
        "    ###########################\n",
        "    # Adding dropout with rate .5 to the first hidden layer\n",
        "    ###########################\n",
        "    net5.add(gluon.nn.Dropout(.1))\n",
        "\n",
        "    ###########################\n",
        "    # Adding second hidden layer\n",
        "    ###########################\n",
        "    net5.add(gluon.nn.Dense(512, activation=\"relu\"))\n",
        "    ###########################\n",
        "    # Adding dropout with rate .5 to the second hidden layer\n",
        "    ###########################\n",
        "    net5.add(gluon.nn.Dropout(.4))\n",
        "    \n",
        "    net5.add(gluon.nn.Dense(256, activation=\"relu\"))\n",
        "    ###########################\n",
        "    # Adding dropout with rate .5 to the second hidden layer\n",
        "    ###########################\n",
        "    net5.add(gluon.nn.Dropout(.6))\n",
        "\n",
        "    ###########################\n",
        "    # Adding the output layer\n",
        "    ###########################\n",
        "    net5.add(gluon.nn.Dense(10))\n",
        "net5.collect_params().initialize(mx.init.Normal(sigma=.1), ctx=model_ctx)\n",
        "softmax_cross_entropy = gluon.loss.SoftmaxCrossEntropyLoss()\n",
        "trainer = gluon.Trainer(net5.collect_params(), 'adam', {'learning_rate': .01})\n",
        "epochs = 50\n",
        "smoothing_constant = .01\n",
        "patience=2"
      ],
      "execution_count": 0,
      "outputs": []
    },
    {
      "metadata": {
        "id": "zhHDrvi73nFQ",
        "colab_type": "code",
        "colab": {
          "base_uri": "https://localhost:8080/",
          "height": 168
        },
        "outputId": "668d06c8-c1a9-4e8b-c20a-146d25be640a"
      },
      "cell_type": "code",
      "source": [
        "network_5_train_loss = []\n",
        "network_5_valid_loss = []\n",
        "for e in range(epochs):\n",
        "    cumulative_loss = 0\n",
        "    now = datetime.now()\n",
        "    for i, (data, label) in enumerate(train_data):\n",
        "        data , label = transform(data,label)\n",
        "        data = data.as_in_context(model_ctx)\n",
        "        label = label.as_in_context(model_ctx)\n",
        "\n",
        "        with autograd.record():\n",
        "            output = net5(data)\n",
        "            loss = softmax_cross_entropy(output, label)\n",
        "        loss.backward()\n",
        "        trainer.step(64)\n",
        "        cumulative_loss += nd.sum(loss).asscalar()\n",
        "\n",
        "\n",
        "    val_accuracy, v_loss = evaluate_accuracy(val_data, net5)\n",
        "    train_accuracy = evaluate_accuracy_train(train_data, net5)\n",
        "    later = datetime.now()\n",
        "    difference = (later-now).total_seconds()\n",
        "    network_5_train_loss.append(cumulative_loss/(num_examples*0.7))\n",
        "    network_5_valid_loss.append(v_loss/(num_examples*0.3))\n",
        "    print(\"Epoch %s. Loss: %s, Train_acc %s, Valid_acc %s, Valid_Loss %s, Time For Epoch(in secs) %s\" %(e, cumulative_loss/(num_examples*0.7), train_accuracy, val_accuracy, v_loss/(num_examples*0.3), difference))\n",
        "    \n",
        "    net5.save_parameters(\"N5.params\")\n",
        "    if e>0 and network_5_valid_loss[e]<=np.min([network_5_valid_loss[ep] for ep in np.arange(0,e).tolist()]):\n",
        "      print(\"Validation Loss reduced, saving weights....\")\n",
        "      net5.save_parameters(\"N5.params\")\n",
        "    if e+1>patience and np.sum(np.asarray([network_5_valid_loss[ep + 1] - network_5_valid_loss[ep] for ep in np.arange(e - patience,e).tolist()])>0)==patience:\n",
        "      break"
      ],
      "execution_count": 40,
      "outputs": [
        {
          "output_type": "stream",
          "text": [
            "Epoch 0. Loss: 1.2215978977566673, Train_acc 0.7620714285714286, Valid_acc 0.7565, Valid_Loss 0.0007093386650085449, Time For Epoch(in secs) 28.347125\n",
            "Epoch 1. Loss: 0.8478832375662667, Train_acc 0.7677380952380952, Valid_acc 0.7692222222222223, Valid_Loss 0.0010888307359483507, Time For Epoch(in secs) 77.883295\n",
            "Epoch 2. Loss: 0.8042680194945563, Train_acc 0.8172142857142857, Valid_acc 0.8155555555555556, Valid_Loss 0.0005671173731486002, Time For Epoch(in secs) 80.777668\n",
            "Validation Loss reduced, saving weights....\n",
            "Epoch 3. Loss: 0.8213680183546884, Train_acc 0.8006190476190476, Valid_acc 0.7967222222222222, Valid_Loss 0.000756925106048584, Time For Epoch(in secs) 84.565454\n",
            "Epoch 4. Loss: 0.7972584731465294, Train_acc 0.785952380952381, Valid_acc 0.7801111111111111, Valid_Loss 0.0004948275883992513, Time For Epoch(in secs) 87.242625\n",
            "Validation Loss reduced, saving weights....\n",
            "Epoch 5. Loss: 0.8248588295891172, Train_acc 0.7645, Valid_acc 0.7587777777777778, Valid_Loss 0.0006351194381713867, Time For Epoch(in secs) 89.254818\n",
            "Epoch 6. Loss: 0.8260261967976888, Train_acc 0.7695952380952381, Valid_acc 0.7637777777777778, Valid_Loss 0.0006484760178460015, Time For Epoch(in secs) 88.801231\n"
          ],
          "name": "stdout"
        }
      ]
    },
    {
      "metadata": {
        "id": "mUKpjtJi6XyL",
        "colab_type": "code",
        "colab": {
          "base_uri": "https://localhost:8080/",
          "height": 362
        },
        "outputId": "122abf38-1b1b-4109-b465-56ab690b3897"
      },
      "cell_type": "code",
      "source": [
        "plt.figure(\"Image\")\n",
        "plt.title(\"Network 1 Loss vs Epoch\")\n",
        "network_5_valid_loss =  [float(i)/sum(network_5_valid_loss) for i in network_5_valid_loss]\n",
        "network_5_train_loss =  [float(i)/sum(network_5_train_loss) for i in network_5_train_loss]\n",
        "plt.plot(network_5_valid_loss, c=\"red\", label=\"Validation Loss\")\n",
        "plt.plot(network_5_train_loss, c=\"blue\", label = \"Training Loss\")\n",
        "plt.legend()\n",
        "plt.savefig('exp_'+str(\"Image\")+'.png')"
      ],
      "execution_count": 41,
      "outputs": [
        {
          "output_type": "display_data",
          "data": {
            "image/png": "[encoded data removed]",
            "text/plain": [
              "<Figure size 576x396 with 1 Axes>"
            ]
          },
          "metadata": {
            "tags": []
          }
        }
      ]
    },
    {
      "metadata": {
        "id": "Jbn4kU9F6kIB",
        "colab_type": "code",
        "colab": {
          "base_uri": "https://localhost:8080/",
          "height": 34
        },
        "outputId": "662c4c1e-1f9d-4c2e-aa91-3b44bb47e366"
      },
      "cell_type": "code",
      "source": [
        "cnt = 0\n",
        "accuracy = 0\n",
        "for i, (data, label) in enumerate(test_data):\n",
        "    data , label = transform(data,label)\n",
        "    data = data.as_in_context(model_ctx).reshape((-1, 784))\n",
        "    label = label.as_in_context(model_ctx)\n",
        "    with autograd.record():\n",
        "        output = net5(data)\n",
        "\n",
        "        acc = mx.metric.Accuracy()\n",
        "        acc.update(preds=nd.argmax(output,axis=1),labels=label)\n",
        "        #print(\"Test Accuracy : %f\"%acc.get()[1])\n",
        "        accuracy = accuracy + acc.get()[1]\n",
        "        cnt = cnt + 1\n",
        "\n",
        "print(\"Total Accuracy: \", float(accuracy/cnt))"
      ],
      "execution_count": 42,
      "outputs": [
        {
          "output_type": "stream",
          "text": [
            "Total Accuracy:  0.6964570063694268\n"
          ],
          "name": "stdout"
        }
      ]
    },
    {
      "metadata": {
        "id": "MnyupLV662gL",
        "colab_type": "code",
        "colab": {}
      },
      "cell_type": "code",
      "source": [
        "net6 = NN2()\n",
        "net6.collect_params().initialize(mx.init.Normal(sigma=.1), ctx=model_ctx)\n",
        "softmax_cross_entropy = gluon.loss.SoftmaxCrossEntropyLoss()\n",
        "trainer = gluon.Trainer(net6.collect_params(), 'adadelta', {'learning_rate': .01})\n",
        "epochs = 50\n",
        "smoothing_constant = .01\n",
        "patience=2"
      ],
      "execution_count": 0,
      "outputs": []
    },
    {
      "metadata": {
        "id": "HXjdNX7F8bkR",
        "colab_type": "code",
        "colab": {
          "base_uri": "https://localhost:8080/",
          "height": 118
        },
        "outputId": "8e1eda05-2f76-43ce-8f38-f6e0aa2a31fe"
      },
      "cell_type": "code",
      "source": [
        "network_6_train_loss = []\n",
        "network_6_valid_loss = []\n",
        "for e in range(epochs):\n",
        "    cumulative_loss = 0\n",
        "    now = datetime.now()\n",
        "    for i, (data, label) in enumerate(train_data):\n",
        "        data , label = transform(data,label)\n",
        "        data = data.as_in_context(model_ctx)\n",
        "        label = label.as_in_context(model_ctx)\n",
        "\n",
        "        with autograd.record():\n",
        "            output = net6(data)\n",
        "            loss = softmax_cross_entropy(output, label)\n",
        "        loss.backward()\n",
        "        trainer.step(64)\n",
        "        cumulative_loss += nd.sum(loss).asscalar()\n",
        "\n",
        "\n",
        "    val_accuracy, v_loss = evaluate_accuracy(val_data, net6)\n",
        "    train_accuracy = evaluate_accuracy_train(train_data, net6)\n",
        "    later = datetime.now()\n",
        "    difference = (later-now).total_seconds()\n",
        "    network_6_train_loss.append(cumulative_loss/(num_examples*0.7))\n",
        "    network_6_valid_loss.append(v_loss/(num_examples*0.3))\n",
        "    print(\"Epoch %s. Loss: %s, Train_acc %s, Valid_acc %s, Valid_Loss %s, Time For Epoch(in secs) %s\" %(e, cumulative_loss/(num_examples*0.7), train_accuracy, val_accuracy, v_loss/(num_examples*0.3), difference))\n",
        "    \n",
        "    net6.save_parameters(\"N6.params\")\n",
        "    if e>0 and network_6_valid_loss[e]<=np.min([network_6_valid_loss[ep] for ep in np.arange(0,e).tolist()]):\n",
        "      print(\"Validation Loss reduced, saving weights....\")\n",
        "      net6.save_parameters(\"N6.params\")\n",
        "    if e+1>patience and np.sum(np.asarray([network_6_valid_loss[ep + 1] - network_6_valid_loss[ep] for ep in np.arange(e - patience,e).tolist()])>0)==patience:\n",
        "      break"
      ],
      "execution_count": 45,
      "outputs": [
        {
          "output_type": "stream",
          "text": [
            "Epoch 0. Loss: 0.9033530707586379, Train_acc 0.8256190476190476, Valid_acc 0.8216111111111111, Valid_Loss 0.0005207570393880208, Time For Epoch(in secs) 51.203572\n",
            "Epoch 1. Loss: 0.44611672010875886, Train_acc 0.8459761904761904, Valid_acc 0.8355555555555556, Valid_Loss 0.0008384903801812066, Time For Epoch(in secs) 52.776107\n",
            "Epoch 2. Loss: 0.3974307930242448, Train_acc 0.881547619047619, Valid_acc 0.8701666666666666, Valid_Loss 0.0003379481103685167, Time For Epoch(in secs) 52.470796\n",
            "Validation Loss reduced, saving weights....\n",
            "Epoch 3. Loss: 0.36947926516759966, Train_acc 0.8818095238095238, Valid_acc 0.868, Valid_Loss 0.00034983449512057836, Time For Epoch(in secs) 53.001041\n",
            "Epoch 4. Loss: 0.34846443218844275, Train_acc 0.8819523809523809, Valid_acc 0.8658333333333333, Valid_Loss 0.0003625146018134223, Time For Epoch(in secs) 52.77062\n"
          ],
          "name": "stdout"
        }
      ]
    },
    {
      "metadata": {
        "id": "ufAfa3wu9JsK",
        "colab_type": "code",
        "colab": {
          "base_uri": "https://localhost:8080/",
          "height": 362
        },
        "outputId": "2a40f251-5193-414b-e486-088e4c3fcb56"
      },
      "cell_type": "code",
      "source": [
        "plt.figure(\"Image\")\n",
        "plt.title(\"Network 1 Loss vs Epoch\")\n",
        "network_6_valid_loss =  [float(i)/sum(network_6_valid_loss) for i in network_6_valid_loss]\n",
        "network_6_train_loss =  [float(i)/sum(network_6_train_loss) for i in network_6_train_loss]\n",
        "plt.plot(network_6_valid_loss, c=\"red\", label=\"Validation Loss\")\n",
        "plt.plot(network_6_train_loss, c=\"blue\", label = \"Training Loss\")\n",
        "plt.legend()\n",
        "plt.savefig('exp_'+str(\"Image\")+'.png')"
      ],
      "execution_count": 46,
      "outputs": [
        {
          "output_type": "display_data",
          "data": {
            "image/png": "[encoded data removed]",
            "text/plain": [
              "<Figure size 576x396 with 1 Axes>"
            ]
          },
          "metadata": {
            "tags": []
          }
        }
      ]
    },
    {
      "metadata": {
        "id": "Vr5tpOAG9WsL",
        "colab_type": "code",
        "colab": {
          "base_uri": "https://localhost:8080/",
          "height": 185
        },
        "outputId": "99929fdc-2df6-40cb-8463-bd9352c72e45"
      },
      "cell_type": "code",
      "source": [
        "net66 = NN2()\n",
        "net66.load_parameters(\"N6.params\")\n",
        "net66.collect_params()"
      ],
      "execution_count": 47,
      "outputs": [
        {
          "output_type": "execute_result",
          "data": {
            "text/plain": [
              "nn212_ (\n",
              "  Parameter nn212_dense0_weight (shape=(1024, 784), dtype=float32)\n",
              "  Parameter nn212_dense0_bias (shape=(1024,), dtype=float32)\n",
              "  Parameter nn212_dense1_weight (shape=(512, 1024), dtype=float32)\n",
              "  Parameter nn212_dense1_bias (shape=(512,), dtype=float32)\n",
              "  Parameter nn212_dense2_weight (shape=(256, 512), dtype=float32)\n",
              "  Parameter nn212_dense2_bias (shape=(256,), dtype=float32)\n",
              "  Parameter nn212_dense3_weight (shape=(10, 256), dtype=float32)\n",
              "  Parameter nn212_dense3_bias (shape=(10,), dtype=float32)\n",
              ")"
            ]
          },
          "metadata": {
            "tags": []
          },
          "execution_count": 47
        }
      ]
    },
    {
      "metadata": {
        "id": "nGRGWTRF9fWt",
        "colab_type": "code",
        "colab": {
          "base_uri": "https://localhost:8080/",
          "height": 34
        },
        "outputId": "9f7a8c00-c6ce-4f0c-fcf8-0da346e08241"
      },
      "cell_type": "code",
      "source": [
        "cnt = 0\n",
        "accuracy = 0\n",
        "for i, (data, label) in enumerate(test_data):\n",
        "    data , label = transform(data,label)\n",
        "    data = data.as_in_context(model_ctx).reshape((-1, 784))\n",
        "    label = label.as_in_context(model_ctx)\n",
        "    with autograd.record():\n",
        "        output = net66(data)\n",
        "\n",
        "        acc = mx.metric.Accuracy()\n",
        "        acc.update(preds=nd.argmax(output,axis=1),labels=label)\n",
        "        #print(\"Test Accuracy : %f\"%acc.get()[1])\n",
        "        accuracy = accuracy + acc.get()[1]\n",
        "        cnt = cnt + 1\n",
        "\n",
        "print(\"Total Accuracy: \", float(accuracy/cnt))"
      ],
      "execution_count": 48,
      "outputs": [
        {
          "output_type": "stream",
          "text": [
            "Total Accuracy:  0.8600716560509554\n"
          ],
          "name": "stdout"
        }
      ]
    },
    {
      "metadata": {
        "id": "6Jlo_fud94O1",
        "colab_type": "code",
        "colab": {}
      },
      "cell_type": "code",
      "source": [
        "net7 = NN2()\n",
        "net7.collect_params().initialize(mx.init.Normal(sigma=.1), ctx=model_ctx)\n",
        "softmax_cross_entropy = gluon.loss.SoftmaxCrossEntropyLoss()\n",
        "trainer = gluon.Trainer(net7.collect_params(), 'rmsprop', {'learning_rate': .01})\n",
        "epochs = 50\n",
        "smoothing_constant = .01\n",
        "patience=2"
      ],
      "execution_count": 0,
      "outputs": []
    },
    {
      "metadata": {
        "id": "ykwJ3Qkn-Ikz",
        "colab_type": "code",
        "colab": {
          "base_uri": "https://localhost:8080/",
          "height": 101
        },
        "outputId": "b90b95fd-c7e4-4618-cfc6-a77e8ba5800a"
      },
      "cell_type": "code",
      "source": [
        "network_7_train_loss = []\n",
        "network_7_valid_loss = []\n",
        "for e in range(epochs):\n",
        "    cumulative_loss = 0\n",
        "    now = datetime.now()\n",
        "    for i, (data, label) in enumerate(train_data):\n",
        "        data , label = transform(data,label)\n",
        "        data = data.as_in_context(model_ctx)\n",
        "        label = label.as_in_context(model_ctx)\n",
        "\n",
        "        with autograd.record():\n",
        "            output = net7(data)\n",
        "            loss = softmax_cross_entropy(output, label)\n",
        "        loss.backward()\n",
        "        trainer.step(64)\n",
        "        cumulative_loss += nd.sum(loss).asscalar()\n",
        "\n",
        "\n",
        "    val_accuracy, v_loss = evaluate_accuracy(val_data, net7)\n",
        "    train_accuracy = evaluate_accuracy_train(train_data, net7)\n",
        "    later = datetime.now()\n",
        "    difference = (later-now).total_seconds()\n",
        "    network_7_train_loss.append(cumulative_loss/(num_examples*0.7))\n",
        "    network_7_valid_loss.append(v_loss/(num_examples*0.3))\n",
        "    print(\"Epoch %s. Loss: %s, Train_acc %s, Valid_acc %s, Valid_Loss %s, Time For Epoch(in secs) %s\" %(e, cumulative_loss/(num_examples*0.7), train_accuracy, val_accuracy, v_loss/(num_examples*0.3), difference))\n",
        "    \n",
        "    net7.save_parameters(\"N7.params\")\n",
        "    if e>0 and network_7_valid_loss[e]<=np.min([network_7_valid_loss[ep] for ep in np.arange(0,e).tolist()]):\n",
        "      print(\"Validation Loss reduced, saving weights....\")\n",
        "      net7.save_parameters(\"N7.params\")\n",
        "    if e+1>patience and np.sum(np.asarray([network_7_valid_loss[ep + 1] - network_7_valid_loss[ep] for ep in np.arange(e - patience,e).tolist()])>0)==patience:\n",
        "      break"
      ],
      "execution_count": 50,
      "outputs": [
        {
          "output_type": "stream",
          "text": [
            "Epoch 0. Loss: 2.950426819596972, Train_acc 0.799047619047619, Valid_acc 0.7954444444444444, Valid_Loss 0.0004079760180579291, Time For Epoch(in secs) 26.765566\n",
            "Epoch 1. Loss: 0.608735211009071, Train_acc 0.8284761904761905, Valid_acc 0.8213333333333334, Valid_Loss 0.0004014208846622043, Time For Epoch(in secs) 37.2094\n",
            "Validation Loss reduced, saving weights....\n",
            "Epoch 2. Loss: 0.553341342931702, Train_acc 0.8045952380952381, Valid_acc 0.8021111111111111, Valid_Loss 0.0004783330493503147, Time For Epoch(in secs) 38.629921\n",
            "Epoch 3. Loss: 0.536347867937315, Train_acc 0.8435476190476191, Valid_acc 0.8405, Valid_Loss 0.0006239250500996908, Time For Epoch(in secs) 39.047631\n"
          ],
          "name": "stdout"
        }
      ]
    },
    {
      "metadata": {
        "id": "9WcKU1F_-dfS",
        "colab_type": "code",
        "colab": {
          "base_uri": "https://localhost:8080/",
          "height": 362
        },
        "outputId": "6086f810-051e-4206-9c0a-07c95b562ad1"
      },
      "cell_type": "code",
      "source": [
        "plt.figure(\"Image\")\n",
        "plt.title(\"Network 1 Loss vs Epoch\")\n",
        "network_7_valid_loss =  [float(i)/sum(network_7_valid_loss) for i in network_7_valid_loss]\n",
        "network_7_train_loss =  [float(i)/sum(network_7_train_loss) for i in network_7_train_loss]\n",
        "plt.plot(network_7_valid_loss, c=\"red\", label=\"Validation Loss\")\n",
        "plt.plot(network_7_train_loss, c=\"blue\", label = \"Training Loss\")\n",
        "plt.legend()\n",
        "plt.savefig('exp_'+str(\"Image\")+'.png')"
      ],
      "execution_count": 51,
      "outputs": [
        {
          "output_type": "display_data",
          "data": {
            "image/png": "[encoded data removed]",
            "text/plain": [
              "<Figure size 576x396 with 1 Axes>"
            ]
          },
          "metadata": {
            "tags": []
          }
        }
      ]
    },
    {
      "metadata": {
        "id": "4SGHEs7l-mnY",
        "colab_type": "code",
        "colab": {
          "base_uri": "https://localhost:8080/",
          "height": 185
        },
        "outputId": "4968c382-bbe7-46db-8147-4801c5eae817"
      },
      "cell_type": "code",
      "source": [
        "net77 = NN2()\n",
        "net77.load_parameters(\"N7.params\")\n",
        "net77.collect_params()"
      ],
      "execution_count": 52,
      "outputs": [
        {
          "output_type": "execute_result",
          "data": {
            "text/plain": [
              "nn214_ (\n",
              "  Parameter nn214_dense0_weight (shape=(1024, 784), dtype=float32)\n",
              "  Parameter nn214_dense0_bias (shape=(1024,), dtype=float32)\n",
              "  Parameter nn214_dense1_weight (shape=(512, 1024), dtype=float32)\n",
              "  Parameter nn214_dense1_bias (shape=(512,), dtype=float32)\n",
              "  Parameter nn214_dense2_weight (shape=(256, 512), dtype=float32)\n",
              "  Parameter nn214_dense2_bias (shape=(256,), dtype=float32)\n",
              "  Parameter nn214_dense3_weight (shape=(10, 256), dtype=float32)\n",
              "  Parameter nn214_dense3_bias (shape=(10,), dtype=float32)\n",
              ")"
            ]
          },
          "metadata": {
            "tags": []
          },
          "execution_count": 52
        }
      ]
    },
    {
      "metadata": {
        "id": "19sFAdCu-shd",
        "colab_type": "code",
        "colab": {
          "base_uri": "https://localhost:8080/",
          "height": 34
        },
        "outputId": "d1d5b835-544b-4edc-c391-241bfe3b9b43"
      },
      "cell_type": "code",
      "source": [
        "cnt = 0\n",
        "accuracy = 0\n",
        "for i, (data, label) in enumerate(test_data):\n",
        "    data , label = transform(data,label)\n",
        "    data = data.as_in_context(model_ctx).reshape((-1, 784))\n",
        "    label = label.as_in_context(model_ctx)\n",
        "    with autograd.record():\n",
        "        output = net77(data)\n",
        "\n",
        "        acc = mx.metric.Accuracy()\n",
        "        acc.update(preds=nd.argmax(output,axis=1),labels=label)\n",
        "        #print(\"Test Accuracy : %f\"%acc.get()[1])\n",
        "        accuracy = accuracy + acc.get()[1]\n",
        "        cnt = cnt + 1\n",
        "\n",
        "print(\"Total Accuracy: \", float(accuracy/cnt))"
      ],
      "execution_count": 53,
      "outputs": [
        {
          "output_type": "stream",
          "text": [
            "Total Accuracy:  0.8299164012738853\n"
          ],
          "name": "stdout"
        }
      ]
    },
    {
      "metadata": {
        "id": "Iz4qTsEm-3M7",
        "colab_type": "code",
        "colab": {}
      },
      "cell_type": "code",
      "source": [
        "net8 = NN2()\n",
        "net8.collect_params().initialize(mx.init.Normal(sigma=.1), ctx=model_ctx)\n",
        "softmax_cross_entropy = gluon.loss.SoftmaxCrossEntropyLoss()\n",
        "trainer = gluon.Trainer(net8.collect_params(), 'sgd', {'learning_rate': .01})\n",
        "epochs = 50\n",
        "smoothing_constant = .01\n",
        "patience=2"
      ],
      "execution_count": 0,
      "outputs": []
    },
    {
      "metadata": {
        "id": "Krlq6KrH_Gnq",
        "colab_type": "code",
        "colab": {
          "base_uri": "https://localhost:8080/",
          "height": 504
        },
        "outputId": "846bc8c7-8e1c-4169-d988-eab179f8ad55"
      },
      "cell_type": "code",
      "source": [
        "network_8_train_loss = []\n",
        "network_8_valid_loss = []\n",
        "for e in range(epochs):\n",
        "    cumulative_loss = 0\n",
        "    now = datetime.now()\n",
        "    for i, (data, label) in enumerate(train_data):\n",
        "        data , label = transform(data,label)\n",
        "        data = data.as_in_context(model_ctx)\n",
        "        label = label.as_in_context(model_ctx)\n",
        "\n",
        "        with autograd.record():\n",
        "            output = net8(data)\n",
        "            loss = softmax_cross_entropy(output, label)\n",
        "        loss.backward()\n",
        "        trainer.step(64)\n",
        "        cumulative_loss += nd.sum(loss).asscalar()\n",
        "\n",
        "\n",
        "    val_accuracy, v_loss = evaluate_accuracy(val_data, net8)\n",
        "    train_accuracy = evaluate_accuracy_train(train_data, net8)\n",
        "    later = datetime.now()\n",
        "    difference = (later-now).total_seconds()\n",
        "    network_8_train_loss.append(cumulative_loss/(num_examples*0.7))\n",
        "    network_8_valid_loss.append(v_loss/(num_examples*0.3))\n",
        "    print(\"Epoch %s. Loss: %s, Train_acc %s, Valid_acc %s, Valid_Loss %s, Time For Epoch(in secs) %s\" %(e, cumulative_loss/(num_examples*0.7), train_accuracy, val_accuracy, v_loss/(num_examples*0.3), difference))\n",
        "    \n",
        "    net8.save_parameters(\"N8.params\")\n",
        "    if e>0 and network_8_valid_loss[e]<=np.min([network_8_valid_loss[ep] for ep in np.arange(0,e).tolist()]):\n",
        "      print(\"Validation Loss reduced, saving weights....\")\n",
        "      net8.save_parameters(\"N8.params\")\n",
        "    if e+1>patience and np.sum(np.asarray([network_8_valid_loss[ep + 1] - network_8_valid_loss[ep] for ep in np.arange(e - patience,e).tolist()])>0)==patience:\n",
        "      break"
      ],
      "execution_count": 55,
      "outputs": [
        {
          "output_type": "stream",
          "text": [
            "Epoch 0. Loss: 0.6663208982263292, Train_acc 0.8384047619047619, Valid_acc 0.8304444444444444, Valid_Loss 0.000545207871331109, Time For Epoch(in secs) 18.793307\n",
            "Epoch 1. Loss: 0.44515503701709563, Train_acc 0.8566666666666667, Valid_acc 0.8483888888888889, Valid_Loss 0.00045469374126858183, Time For Epoch(in secs) 18.845314\n",
            "Validation Loss reduced, saving weights....\n",
            "Epoch 2. Loss: 0.39852805307933264, Train_acc 0.8643571428571428, Valid_acc 0.8511666666666666, Valid_Loss 0.00037466467751397025, Time For Epoch(in secs) 18.831866\n",
            "Validation Loss reduced, saving weights....\n",
            "Epoch 3. Loss: 0.37000031163011277, Train_acc 0.8801428571428571, Valid_acc 0.8630555555555556, Valid_Loss 0.00025084172354804143, Time For Epoch(in secs) 18.950426\n",
            "Validation Loss reduced, saving weights....\n",
            "Epoch 4. Loss: 0.34663139356885636, Train_acc 0.8680238095238095, Valid_acc 0.8485, Valid_Loss 0.00044519752926296656, Time For Epoch(in secs) 18.685091\n",
            "Epoch 5. Loss: 0.33015984039079577, Train_acc 0.8905, Valid_acc 0.8695, Valid_Loss 0.0002330473264058431, Time For Epoch(in secs) 18.982508\n",
            "Validation Loss reduced, saving weights....\n",
            "Epoch 6. Loss: 0.3150982232775007, Train_acc 0.8891666666666667, Valid_acc 0.8657222222222222, Valid_Loss 0.0003752307362026638, Time For Epoch(in secs) 18.618699\n",
            "Epoch 7. Loss: 0.30157505804016477, Train_acc 0.8935952380952381, Valid_acc 0.8675555555555555, Valid_Loss 0.00019579647647009955, Time For Epoch(in secs) 18.726821\n",
            "Validation Loss reduced, saving weights....\n",
            "Epoch 8. Loss: 0.2868952228909447, Train_acc 0.9051190476190476, Valid_acc 0.8758888888888889, Valid_Loss 0.0002485711309644911, Time For Epoch(in secs) 19.029931\n",
            "Epoch 9. Loss: 0.27800088572998843, Train_acc 0.9070476190476191, Valid_acc 0.8758333333333334, Valid_Loss 0.00023104829258388944, Time For Epoch(in secs) 18.891697\n",
            "Epoch 10. Loss: 0.2672182918843769, Train_acc 0.9100952380952381, Valid_acc 0.8761666666666666, Valid_Loss 0.0002419992552863227, Time For Epoch(in secs) 18.885776\n",
            "Epoch 11. Loss: 0.2575193246092115, Train_acc 0.9136904761904762, Valid_acc 0.8786111111111111, Valid_Loss 0.00018107404973771837, Time For Epoch(in secs) 18.983425\n",
            "Validation Loss reduced, saving weights....\n",
            "Epoch 12. Loss: 0.24898504503000352, Train_acc 0.909047619047619, Valid_acc 0.8726666666666667, Valid_Loss 0.0002869385878245036, Time For Epoch(in secs) 18.682028\n",
            "Epoch 13. Loss: 0.24093044076363246, Train_acc 0.9264523809523809, Valid_acc 0.8823888888888889, Valid_Loss 0.00021362622578938802, Time For Epoch(in secs) 19.418579\n",
            "Epoch 14. Loss: 0.23265887249083747, Train_acc 0.9233333333333333, Valid_acc 0.8808888888888889, Valid_Loss 0.0003060872554779053, Time For Epoch(in secs) 18.909993\n",
            "Epoch 15. Loss: 0.22508149964184987, Train_acc 0.9242380952380952, Valid_acc 0.8767777777777778, Valid_Loss 0.00027494602733188207, Time For Epoch(in secs) 19.134059\n",
            "Epoch 16. Loss: 0.21749535617090407, Train_acc 0.9281666666666667, Valid_acc 0.8784444444444445, Valid_Loss 0.0002804068459404839, Time For Epoch(in secs) 18.876383\n",
            "Epoch 17. Loss: 0.21187160629317875, Train_acc 0.9221666666666667, Valid_acc 0.8764444444444445, Valid_Loss 0.0002198491228951348, Time For Epoch(in secs) 19.001097\n",
            "Epoch 18. Loss: 0.20370148863111223, Train_acc 0.9333809523809524, Valid_acc 0.8823333333333333, Valid_Loss 0.0002172705994711982, Time For Epoch(in secs) 19.153986\n",
            "Epoch 19. Loss: 0.19765188722951071, Train_acc 0.9337380952380953, Valid_acc 0.8811666666666667, Valid_Loss 0.00013333341810438368, Time For Epoch(in secs) 18.919814\n",
            "Validation Loss reduced, saving weights....\n",
            "Epoch 20. Loss: 0.1911200071459725, Train_acc 0.9413571428571429, Valid_acc 0.8851111111111111, Valid_Loss 0.00020998134877946642, Time For Epoch(in secs) 19.183432\n",
            "Epoch 21. Loss: 0.18567168780167898, Train_acc 0.9387619047619048, Valid_acc 0.8816666666666667, Valid_Loss 0.00032069937388102214, Time For Epoch(in secs) 19.000058\n"
          ],
          "name": "stdout"
        }
      ]
    },
    {
      "metadata": {
        "id": "vckD8XI6_jED",
        "colab_type": "code",
        "colab": {
          "base_uri": "https://localhost:8080/",
          "height": 362
        },
        "outputId": "e1c2bd83-be8a-4288-d869-c8b1cda88ed6"
      },
      "cell_type": "code",
      "source": [
        "plt.figure(\"Image\")\n",
        "plt.title(\"Network 1 Loss vs Epoch\")\n",
        "network_8_valid_loss =  [float(i)/sum(network_8_valid_loss) for i in network_8_valid_loss]\n",
        "network_8_train_loss =  [float(i)/sum(network_8_train_loss) for i in network_8_train_loss]\n",
        "plt.plot(network_8_valid_loss, c=\"red\", label=\"Validation Loss\")\n",
        "plt.plot(network_8_train_loss, c=\"blue\", label = \"Training Loss\")\n",
        "plt.legend()\n",
        "plt.savefig('exp_'+str(\"Image\")+'.png')"
      ],
      "execution_count": 56,
      "outputs": [
        {
          "output_type": "display_data",
          "data": {
            "image/png": "[encoded data removed]",
            "text/plain": [
              "<Figure size 576x396 with 1 Axes>"
            ]
          },
          "metadata": {
            "tags": []
          }
        }
      ]
    },
    {
      "metadata": {
        "id": "iKuGemQ4_ruZ",
        "colab_type": "code",
        "colab": {
          "base_uri": "https://localhost:8080/",
          "height": 185
        },
        "outputId": "69197ac5-caae-4acd-e9e7-2412436d1449"
      },
      "cell_type": "code",
      "source": [
        "net88 = NN2()\n",
        "net88.load_parameters(\"N8.params\")\n",
        "net88.collect_params()"
      ],
      "execution_count": 57,
      "outputs": [
        {
          "output_type": "execute_result",
          "data": {
            "text/plain": [
              "nn216_ (\n",
              "  Parameter nn216_dense0_weight (shape=(1024, 784), dtype=float32)\n",
              "  Parameter nn216_dense0_bias (shape=(1024,), dtype=float32)\n",
              "  Parameter nn216_dense1_weight (shape=(512, 1024), dtype=float32)\n",
              "  Parameter nn216_dense1_bias (shape=(512,), dtype=float32)\n",
              "  Parameter nn216_dense2_weight (shape=(256, 512), dtype=float32)\n",
              "  Parameter nn216_dense2_bias (shape=(256,), dtype=float32)\n",
              "  Parameter nn216_dense3_weight (shape=(10, 256), dtype=float32)\n",
              "  Parameter nn216_dense3_bias (shape=(10,), dtype=float32)\n",
              ")"
            ]
          },
          "metadata": {
            "tags": []
          },
          "execution_count": 57
        }
      ]
    },
    {
      "metadata": {
        "id": "ktPpbkzn_1rd",
        "colab_type": "code",
        "colab": {
          "base_uri": "https://localhost:8080/",
          "height": 34
        },
        "outputId": "0e98cb5b-a802-4198-8383-1154e27c7efe"
      },
      "cell_type": "code",
      "source": [
        "cnt = 0\n",
        "accuracy = 0\n",
        "for i, (data, label) in enumerate(test_data):\n",
        "    data , label = transform(data,label)\n",
        "    data = data.as_in_context(model_ctx).reshape((-1, 784))\n",
        "    label = label.as_in_context(model_ctx)\n",
        "    with autograd.record():\n",
        "        output = net88(data)\n",
        "\n",
        "        acc = mx.metric.Accuracy()\n",
        "        acc.update(preds=nd.argmax(output,axis=1),labels=label)\n",
        "        #print(\"Test Accuracy : %f\"%acc.get()[1])\n",
        "        accuracy = accuracy + acc.get()[1]\n",
        "        cnt = cnt + 1\n",
        "\n",
        "print(\"Total Accuracy: \", float(accuracy/cnt))"
      ],
      "execution_count": 58,
      "outputs": [
        {
          "output_type": "stream",
          "text": [
            "Total Accuracy:  0.8696257961783439\n"
          ],
          "name": "stdout"
        }
      ]
    },
    {
      "metadata": {
        "id": "bFiMiR_IAJUL",
        "colab_type": "code",
        "colab": {}
      },
      "cell_type": "code",
      "source": [
        "net9 = NN2()\n",
        "net9.collect_params().initialize(mx.init.Normal(sigma=.1), ctx=model_ctx)\n",
        "softmax_cross_entropy = gluon.loss.SoftmaxCrossEntropyLoss()\n",
        "trainer = gluon.Trainer(net9.collect_params(), 'nag', {'learning_rate': .01})\n",
        "epochs = 50\n",
        "smoothing_constant = .01\n",
        "patience=2"
      ],
      "execution_count": 0,
      "outputs": []
    },
    {
      "metadata": {
        "id": "12LtGgG0Acqn",
        "colab_type": "code",
        "colab": {
          "base_uri": "https://localhost:8080/",
          "height": 269
        },
        "outputId": "2e255ed8-253a-4ef0-ceab-509dceb56115"
      },
      "cell_type": "code",
      "source": [
        "network_9_train_loss = []\n",
        "network_9_valid_loss = []\n",
        "for e in range(epochs):\n",
        "    cumulative_loss = 0\n",
        "    now = datetime.now()\n",
        "    for i, (data, label) in enumerate(train_data):\n",
        "        data , label = transform(data,label)\n",
        "        data = data.as_in_context(model_ctx)\n",
        "        label = label.as_in_context(model_ctx)\n",
        "\n",
        "        with autograd.record():\n",
        "            output = net9(data)\n",
        "            loss = softmax_cross_entropy(output, label)\n",
        "        loss.backward()\n",
        "        trainer.step(64)\n",
        "        cumulative_loss += nd.sum(loss).asscalar()\n",
        "\n",
        "\n",
        "    val_accuracy, v_loss = evaluate_accuracy(val_data, net9)\n",
        "    train_accuracy = evaluate_accuracy_train(train_data, net9)\n",
        "    later = datetime.now()\n",
        "    difference = (later-now).total_seconds()\n",
        "    network_9_train_loss.append(cumulative_loss/(num_examples*0.7))\n",
        "    network_9_valid_loss.append(v_loss/(num_examples*0.3))\n",
        "    print(\"Epoch %s. Loss: %s, Train_acc %s, Valid_acc %s, Valid_Loss %s, Time For Epoch(in secs) %s\" %(e, cumulative_loss/(num_examples*0.7), train_accuracy, val_accuracy, v_loss/(num_examples*0.3), difference))\n",
        "    \n",
        "    net9.save_parameters(\"N9.params\")\n",
        "    if e>0 and network_9_valid_loss[e]<=np.min([network_9_valid_loss[ep] for ep in np.arange(0,e).tolist()]):\n",
        "      print(\"Validation Loss reduced, saving weights....\")\n",
        "      net9.save_parameters(\"N9.params\")\n",
        "    if e+1>patience and np.sum(np.asarray([network_9_valid_loss[ep + 1] - network_9_valid_loss[ep] for ep in np.arange(e - patience,e).tolist()])>0)==patience:\n",
        "      break"
      ],
      "execution_count": 63,
      "outputs": [
        {
          "output_type": "stream",
          "text": [
            "Epoch 0. Loss: 0.6932864299728757, Train_acc 0.8412380952380952, Valid_acc 0.8312222222222222, Valid_Loss 0.0006880980067782931, Time For Epoch(in secs) 21.825609\n",
            "Epoch 1. Loss: 0.44392156344368344, Train_acc 0.8637619047619047, Valid_acc 0.8516111111111111, Valid_Loss 0.0004638609886169434, Time For Epoch(in secs) 22.030407\n",
            "Validation Loss reduced, saving weights....\n",
            "Epoch 2. Loss: 0.3940790433429536, Train_acc 0.8737380952380952, Valid_acc 0.8540555555555556, Valid_Loss 0.00036760324902004665, Time For Epoch(in secs) 21.918378\n",
            "Validation Loss reduced, saving weights....\n",
            "Epoch 3. Loss: 0.3637379693474088, Train_acc 0.8854285714285715, Valid_acc 0.8620555555555556, Valid_Loss 0.00042009774843851724, Time For Epoch(in secs) 22.156444\n",
            "Epoch 4. Loss: 0.341581150497709, Train_acc 0.8885714285714286, Valid_acc 0.8601666666666666, Valid_Loss 0.00035911247465345594, Time For Epoch(in secs) 22.493254\n",
            "Validation Loss reduced, saving weights....\n",
            "Epoch 5. Loss: 0.3224429000218709, Train_acc 0.8945714285714286, Valid_acc 0.8660555555555556, Valid_Loss 0.00036905458238389757, Time For Epoch(in secs) 22.705635\n",
            "Epoch 6. Loss: 0.3061604370843797, Train_acc 0.8993095238095238, Valid_acc 0.8673888888888889, Valid_Loss 0.0003511048158009847, Time For Epoch(in secs) 23.099946\n",
            "Validation Loss reduced, saving weights....\n",
            "Epoch 7. Loss: 0.2926055805115473, Train_acc 0.9043809523809524, Valid_acc 0.8724444444444445, Valid_Loss 0.00025043206744723847, Time For Epoch(in secs) 22.540626\n",
            "Validation Loss reduced, saving weights....\n",
            "Epoch 8. Loss: 0.278776128473736, Train_acc 0.9041904761904762, Valid_acc 0.8702222222222222, Valid_Loss 0.00028548918830023873, Time For Epoch(in secs) 22.272883\n",
            "Epoch 9. Loss: 0.26907623776935397, Train_acc 0.9115714285714286, Valid_acc 0.8745555555555555, Valid_Loss 0.000288124057981703, Time For Epoch(in secs) 22.165128\n"
          ],
          "name": "stdout"
        }
      ]
    },
    {
      "metadata": {
        "id": "mKZ_ub2jBKC9",
        "colab_type": "code",
        "colab": {
          "base_uri": "https://localhost:8080/",
          "height": 185
        },
        "outputId": "d295a5b8-cc31-4e17-9254-a039aa9a595b"
      },
      "cell_type": "code",
      "source": [
        "net99 = NN2()\n",
        "net99.load_parameters(\"N9.params\")\n",
        "net99.collect_params()"
      ],
      "execution_count": 64,
      "outputs": [
        {
          "output_type": "execute_result",
          "data": {
            "text/plain": [
              "nn221_ (\n",
              "  Parameter nn221_dense0_weight (shape=(1024, 784), dtype=float32)\n",
              "  Parameter nn221_dense0_bias (shape=(1024,), dtype=float32)\n",
              "  Parameter nn221_dense1_weight (shape=(512, 1024), dtype=float32)\n",
              "  Parameter nn221_dense1_bias (shape=(512,), dtype=float32)\n",
              "  Parameter nn221_dense2_weight (shape=(256, 512), dtype=float32)\n",
              "  Parameter nn221_dense2_bias (shape=(256,), dtype=float32)\n",
              "  Parameter nn221_dense3_weight (shape=(10, 256), dtype=float32)\n",
              "  Parameter nn221_dense3_bias (shape=(10,), dtype=float32)\n",
              ")"
            ]
          },
          "metadata": {
            "tags": []
          },
          "execution_count": 64
        }
      ]
    },
    {
      "metadata": {
        "id": "2hUJYVwUBSfR",
        "colab_type": "code",
        "colab": {
          "base_uri": "https://localhost:8080/",
          "height": 34
        },
        "outputId": "6ff7ca7e-54e3-4bbc-9595-baab7b0bcb75"
      },
      "cell_type": "code",
      "source": [
        "cnt = 0\n",
        "accuracy = 0\n",
        "for i, (data, label) in enumerate(test_data):\n",
        "    data , label = transform(data,label)\n",
        "    data = data.as_in_context(model_ctx).reshape((-1, 784))\n",
        "    label = label.as_in_context(model_ctx)\n",
        "    with autograd.record():\n",
        "        output = net99(data)\n",
        "\n",
        "        acc = mx.metric.Accuracy()\n",
        "        acc.update(preds=nd.argmax(output,axis=1),labels=label)\n",
        "        #print(\"Test Accuracy : %f\"%acc.get()[1])\n",
        "        accuracy = accuracy + acc.get()[1]\n",
        "        cnt = cnt + 1\n",
        "\n",
        "print(\"Total Accuracy: \", float(accuracy/cnt))"
      ],
      "execution_count": 65,
      "outputs": [
        {
          "output_type": "stream",
          "text": [
            "Total Accuracy:  0.8672372611464968\n"
          ],
          "name": "stdout"
        }
      ]
    }
  ]
}