{
  "nbformat": 4,
  "nbformat_minor": 0,
  "metadata": {
    "colab": {
      "name": "Assignment 1b- Classification using Feed Forward Neural Network.ipynb",
      "version": "0.3.2",
      "provenance": [],
      "collapsed_sections": [],
      "toc_visible": true
    },
    "kernelspec": {
      "display_name": "Python 3",
      "language": "python",
      "name": "python3"
    }
  },
  "cells": [
    {
      "metadata": {
        "id": "16RGMFH48Kz-",
        "colab_type": "code",
        "outputId": "79520e4c-3ee3-4874-a3dd-b98e6974d99d",
        "colab": {
          "base_uri": "https://localhost:8080/",
          "height": 34
        }
      },
      "cell_type": "code",
      "source": [
        "'''\n",
        "Name : Samanway Sadhu\n",
        "Roll No: 16EC10048\n",
        "\n",
        "Assignment 1b\n",
        "'''\n",
        "\n",
        "import numpy as np\n",
        "import matplotlib.pyplot as plt\n",
        "import pandas as pd\n",
        "\n",
        "df= pd.read_csv('Iris_Data.csv')\n",
        "df.head()\n",
        "\n",
        "'''\n",
        "You will not import any other library other than these provided.\n",
        "\n",
        "We provide the iris_dataset for the classification task\n",
        "There are 4 dependent variables columns(1-4).\n",
        "The last column (category of the flower) is what we wish to predict\n",
        "\n",
        "The first part of this task is similar to assignment 1 a\n",
        "'''\n",
        "# reads the file and stores in 2 numpy arrays.\n",
        "# X has the input features and Y has the output value in numpy array\n",
        "\n",
        "X = df.iloc[:,:-1].values\n",
        "Y = df.iloc[:,-1].values\n",
        "\n",
        "rows,cols= X.shape[0], X.shape[1] \n",
        "# how to get the number of rows and columns in the dataset.\n",
        "# Rows correspond to the number of input instances, columns correspond to the feature of an input\n",
        "\n",
        "print(rows,cols)\n",
        "\n",
        "np.random.seed(42) # to ensure that the same seed is generated\n",
        "\n",
        "# write code to shuffle the dataset\n",
        "\n",
        "def shuffle_dataset(X,Y):\n",
        "    \n",
        "    '''\n",
        "        Write code to shuffle the dataset here. \n",
        "        \n",
        "        Args: \n",
        "            X: Input feature ndarray\n",
        "            Y: Input values ndarray\n",
        "            \n",
        "        Return:\n",
        "            X and Y shuffled in place\n",
        "    \n",
        "    '''\n",
        "    s=np.array(range(X.shape[0]))\n",
        "    np.random.shuffle(s)\n",
        "    Y_new=np.zeros((rows,3))\n",
        "    Y_new[:,0]=(Y==0)\n",
        "    Y_new[:,1]=(Y==1)\n",
        "    Y_new[:,2]=(Y==2)\n",
        "    return X[s].T,Y_new[s].T\n",
        "    pass\n",
        "X,Y=shuffle_dataset(X,Y)\n",
        "training_size = int(0.8*rows)\n",
        "X_train = X[:,:training_size]\n",
        "y_train = Y[:,:training_size]\n",
        "X_test = X[:,training_size:]\n",
        "y_test = Y[:,training_size:]"
      ],
      "execution_count": 14,
      "outputs": [
        {
          "output_type": "stream",
          "text": [
            "150 4\n"
          ],
          "name": "stdout"
        }
      ]
    },
    {
      "metadata": {
        "id": "JXeDnQPW8K0J",
        "colab_type": "text"
      },
      "cell_type": "markdown",
      "source": [
        "## Defining the Feed Forward Neural Network class"
      ]
    },
    {
      "metadata": {
        "id": "Y2Dewe4l8K0K",
        "colab_type": "code",
        "colab": {}
      },
      "cell_type": "code",
      "source": [
        "class NeuralNetwork(object):\n",
        "    \n",
        "    def __init__(self, input_no, hidden_no, output_no ):\n",
        "        '''\n",
        "            Initialize the Neural network model \n",
        "            Args:\n",
        "                input_no : no of input features (no of cols)\n",
        "                hidden_no: no of hidden nodes in the model\n",
        "                output_no: no of categories our model can classify\n",
        "                      \n",
        "        \n",
        "        '''\n",
        "        self.h=  np.zeros((hidden_no,1))\n",
        "        self.w1= np.random.rand(hidden_no,input_no)*0.01\n",
        "        self.b1= np.random.rand(hidden_no,1)*0.01\n",
        "        self.w2= np.random.rand(output_no,hidden_no)*0.01 \n",
        "        self.b2= np.random.rand(output_no,1)*0.01\n",
        "        pass\n",
        "\n",
        "    \n",
        "    def forward(self, x):\n",
        "        '''\n",
        "            Do a forward pass on the NN model \n",
        "            Args: \n",
        "                x : Input feature matrix \n",
        "                \n",
        "            Return:\n",
        "                y_pred : list of predicted probabilities of x\n",
        "\n",
        "                h= relu(w1.x+b1) \n",
        "                y_pred = softmax(w2.h+b2)\n",
        "                \n",
        "        \n",
        "        '''\n",
        "        y_pred=[]\n",
        "        self.h=np.maximum((np.dot(self.w1,x)+self.b1),0)\n",
        "        s=np.dot(self.w2,self.h)+self.b2\n",
        "        s=s-np.amax(s,axis=0,keepdims=True)\n",
        "        e_x=np.exp(s)\n",
        "        y_pred=e_x/np.sum(e_x,axis=0,keepdims=True)\n",
        "        return y_pred\n",
        "        pass\n",
        "    \n",
        "    def backward(self, x, y_train, y_pred, lr):\n",
        "        \n",
        "        '''\n",
        "            Do a backward pass on the NN model. \n",
        "            Computes all gradients and updates the parameters w1, b1, w2, b2\n",
        "            \n",
        "            Args:\n",
        "                x: input matrix X \n",
        "                y_train: actual category of the feature/ data point\n",
        "                y_pred: predicted probabilities of the categories obtained during forward pass\n",
        "                lr: learning rate        \n",
        "        '''\n",
        "        dZ2=y_pred-y_train\n",
        "        dW2=np.dot(dZ2,self.h.T)/x.shape[1]\n",
        "        db2=np.sum(dZ2,axis=1,keepdims=True)/x.shape[1]\n",
        "        Z1=np.dot(self.w1,x)+self.b1\n",
        "        dZ1=np.dot(self.w2.T,dZ2)*(Z1>=0)\n",
        "        dW1=np.dot(dZ1,x.T)/x.shape[1]\n",
        "        db1=np.sum(dZ1,axis=1,keepdims=True)/x.shape[1]\n",
        "        self.w1=self.w1-lr*dW1\n",
        "        self.w2=self.w2-lr*dW2\n",
        "        self.b1=self.b1-lr*db1\n",
        "        self.b2=self.b2-lr*db2\n",
        "        pass\n",
        "             \n",
        "\n",
        "        \n",
        "def crossEntropy_loss(y_pred, y_train):\n",
        "    '''\n",
        "        Computes the cross entropy loss between the predicted values and the actual values\n",
        "        \n",
        "        Args:\n",
        "            y_pred: predicted probabilities of the categories obtained during forward pass\n",
        "            y_train: actual category of the feature/ data point\n",
        "    \n",
        "    '''\n",
        "    loss = -np.sum(np.log(y_pred)*y_train)/y_train.shape[1]\n",
        "    return loss\n",
        "    pass\n",
        "\n",
        "def accuracy(y_pred,y_train):\n",
        "    '''\n",
        "        Computes the accuracy between the predicted values and actual labels\n",
        "    \n",
        "        Args:\n",
        "            y_pred: predicted probabilities of the categories obtained during forward pass\n",
        "            y_train: actual category of the feature/ data point\n",
        "\n",
        "    '''\n",
        "    y=(y_pred==np.amax(y_pred,axis=0,keepdims=True))\n",
        "    acc=np.sum(y*y_train)/y_train.shape[1]\n",
        "    return acc\n",
        "    pass\n",
        "        \n"
      ],
      "execution_count": 0,
      "outputs": []
    },
    {
      "metadata": {
        "id": "Y3ZducwX8K0T",
        "colab_type": "code",
        "outputId": "01915829-749e-4b11-aa90-2d862961aa22",
        "colab": {
          "base_uri": "https://localhost:8080/",
          "height": 431
        }
      },
      "cell_type": "code",
      "source": [
        "# Initialize the neural network model and specify the parameters \n",
        "\n",
        "hidden_no=10000\n",
        "nnobj= NeuralNetwork(cols,hidden_no,3)       \n",
        "epochs = 10000\n",
        "learning_rate = 1e-2\n",
        "loss_history = []\n",
        "epoch_history = []\n",
        "\n",
        "# Gradient Descent\n",
        "for e in range(epochs):\n",
        "    yPred= nnobj.forward(X_train)\n",
        "    nnobj.backward(X_train, y_train,yPred, lr=learning_rate)\n",
        "    loss=crossEntropy_loss(yPred, y_train)\n",
        "    if e==0 or (e+1)%100==0:\n",
        "        loss_history.append(loss)\n",
        "        epoch_history.append(e+1)\n",
        "        \n",
        "print('Loss fuction decrease after ' + str(epochs) + ' epochs of training')\n",
        "#Plot the decrease in loss with epoch\n",
        "plt.plot(epoch_history, loss_history)\n",
        "plt.show()\n",
        "\n",
        "    \n",
        "train_loss= crossEntropy_loss(nnobj.forward(X_train), y_train)\n",
        "train_accuracy= accuracy(nnobj.forward(X_train), y_train)\n",
        "test_loss= crossEntropy_loss(nnobj.forward(X_test), y_test)\n",
        "test_accuracy= accuracy(nnobj.forward(X_test), y_test)\n",
        "    \n",
        "print(\"Final train_loss \"+ str(train_loss))    \n",
        "print(\"Final train_accuracy \"+ str(train_accuracy))    \n",
        "print(\"Testloss \" + str(test_loss))\n",
        "print(\"Accuracy is \"+ str(test_accuracy))\n",
        "\n",
        "        \n",
        "            "
      ],
      "execution_count": 12,
      "outputs": [
        {
          "output_type": "stream",
          "text": [
            "Loss fuction decrease after 10000 epochs of training\n"
          ],
          "name": "stdout"
        },
        {
          "output_type": "display_data",
          "data": {
            "image/png": "[encoded data removed]",
            "text/plain": [
              "<Figure size 576x396 with 1 Axes>"
            ]
          },
          "metadata": {
            "tags": []
          }
        },
        {
          "output_type": "stream",
          "text": [
            "Final train_loss 0.0694705315116142\n",
            "Final train_accuracy 0.975\n",
            "Testloss 0.028533261809706716\n",
            "Accuracy is 1.0\n"
          ],
          "name": "stdout"
        }
      ]
    },
    {
      "metadata": {
        "id": "F3x5DaXv5TPf",
        "colab_type": "code",
        "colab": {}
      },
      "cell_type": "code",
      "source": [
        ""
      ],
      "execution_count": 0,
      "outputs": []
    },
    {
      "metadata": {
        "id": "j6JSaJPWEE6n",
        "colab_type": "code",
        "colab": {}
      },
      "cell_type": "code",
      "source": [
        ""
      ],
      "execution_count": 0,
      "outputs": []
    }
  ]
}