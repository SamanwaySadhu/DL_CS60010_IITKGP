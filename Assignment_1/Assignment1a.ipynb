{
  "nbformat": 4,
  "nbformat_minor": 0,
  "metadata": {
    "colab": {
      "name": "Assignment1.ipynb",
      "version": "0.3.2",
      "provenance": [],
      "toc_visible": true
    },
    "kernelspec": {
      "display_name": "Python 3",
      "language": "python",
      "name": "python3"
    }
  },
  "cells": [
    {
      "metadata": {
        "id": "os8bqRY24HLO",
        "colab_type": "text"
      },
      "cell_type": "markdown",
      "source": [
        "## Implementing multiple linear regression using numpy"
      ]
    },
    {
      "metadata": {
        "id": "G82I16I14HLQ",
        "colab_type": "code",
        "outputId": "a4e6a6ca-ea50-4cef-94e9-a93b304b2ae8",
        "colab": {
          "base_uri": "https://localhost:8080/",
          "height": 34
        }
      },
      "cell_type": "code",
      "source": [
        "'''\n",
        "Name : Samanway Sadhu\n",
        "Roll No: 16EC10048\n",
        "\n",
        "Assignment 1a\n",
        "'''\n",
        "\n",
        "import numpy as np\n",
        "import matplotlib.pyplot as plt\n",
        "import pandas as pd\n",
        "\n",
        "'''\n",
        "You will not import any other library other than these provided.\n",
        "\n",
        "We provide the concrete_dataset as an example.\n",
        "There are 8 dependent variables columns(1-8).\n",
        "The last column (concrete compressive strength) is the value we wish to estimate.\n",
        "'''\n",
        "\n",
        "df= pd.read_csv('Concrete_Data.csv')\n",
        "df.head()\n",
        "\n",
        "# reads the file and stores in 2 numpy arrays.\n",
        "# X has the input features and Y has the output value in numpy array\n",
        "\n",
        "X = df.iloc[:,:-1].values\n",
        "Y = df.iloc[:,-1].values\n",
        "\n",
        "rows,cols= X.shape[0],X.shape[1]\n",
        "# how to get the number of rows and columns in the dataset.\n",
        "# Rows correspond to the number of input instances, columns correspond to the feature of an input\n",
        "\n",
        "print(rows,cols)\n",
        "\n",
        "np.random.seed(42) # to ensure that the same seed is generated\n",
        "\n",
        "# write code to shuffle the dataset\n",
        "\n",
        "def shuffle_dataset(X,Y):\n",
        "    \n",
        "    '''\n",
        "        Write code to shuffle the dataset here. \n",
        "        \n",
        "        Args: \n",
        "            X: Input feature ndarray\n",
        "            Y: Input values ndarray\n",
        "            \n",
        "        Return:\n",
        "            X and Y shuffled in place\n",
        "    \n",
        "    '''\n",
        "    s=np.array(range(X.shape[0]))\n",
        "    np.random.shuffle(s)\n",
        "    Y_new=np.zeros((rows,1))\n",
        "    Y_new[:,0]=Y\n",
        "    return X[s].T,Y_new[s].T\n",
        "    pass\n",
        "X,Y=shuffle_dataset(X,Y)\n",
        "training_size = int(0.8*rows)\n",
        "X_train = X[:,:training_size]\n",
        "y_train = Y[:,:training_size]\n",
        "X_test = X[:,training_size:]\n",
        "y_test = Y[:,training_size:]"
      ],
      "execution_count": 4,
      "outputs": [
        {
          "output_type": "stream",
          "text": [
            "1030 8\n"
          ],
          "name": "stdout"
        }
      ]
    },
    {
      "metadata": {
        "id": "kqr8TpvQ4HLV",
        "colab_type": "text"
      },
      "cell_type": "markdown",
      "source": [
        "## Defining the Linear Regression class "
      ]
    },
    {
      "metadata": {
        "id": "zGLeVHHD4HLX",
        "colab_type": "code",
        "colab": {}
      },
      "cell_type": "code",
      "source": [
        "class LinearRegression(object):\n",
        "    def __init__(self):\n",
        "        #Initialize all parameters\n",
        "        \n",
        "        self.w = np.random.rand(1,cols)*2-1\n",
        "        self.b = np.random.rand(1,1)*2-1\n",
        "    \n",
        "    def forward(self, x):\n",
        "        '''\n",
        "            Do a forward pass of the classifier:\n",
        "            Args:\n",
        "                x: Input X matrix\n",
        "            Return:\n",
        "                y: y = X.w + b  \n",
        "        '''\n",
        "        # Complete this function\n",
        "        y=np.dot(self.w,x)+self.b\n",
        "        return y\n",
        "        raise NotImplementedError\n",
        "        \n",
        "    \n",
        "    def backward(self, x, ypred, y_train, lr):\n",
        "        '''\n",
        "            Computes all gradients and updates the parameters w and b\n",
        "            Args:\n",
        "                x : x\n",
        "                ypred: y=wx+b\n",
        "                y_train = ground truth values\n",
        "                lr = learning rate\n",
        "        '''\n",
        "        # Complete this function\n",
        "        dW=np.sum((ypred-y_train)*x,axis=1,keepdims=True)/y_train.shape[1]\n",
        "        db=np.sum(ypred-y_train)/y_train.shape[1]\n",
        "        self.w=self.w-lr*dW.T\n",
        "        self.b=self.b-lr*db\n",
        "\n",
        "def MSELoss(y, ypred):\n",
        "    '''\n",
        "        Args:\n",
        "            y: ground truth labels\n",
        "            ypred: predicted labels\n",
        "        Return:\n",
        "            Mean squared error loss\n",
        "    '''\n",
        "    MSE=np.sum((y-ypred)**2)/(y.shape[1]*2)\n",
        "    return MSE\n",
        "    # Compute the mean squared error \n",
        "    raise NotImplementedError\n"
      ],
      "execution_count": 0,
      "outputs": []
    },
    {
      "metadata": {
        "id": "qdFSEp8S4HLc",
        "colab_type": "code",
        "outputId": "0b7a79ed-52f1-44ff-ae09-dee789744ee8",
        "colab": {
          "base_uri": "https://localhost:8080/",
          "height": 431
        }
      },
      "cell_type": "code",
      "source": [
        "# Specify the number of epochs as well as the learning rate. \n",
        "# Keep the values fixed.\n",
        "\n",
        "print('Starting Training with Gradient Descent')\n",
        "lreg = LinearRegression()\n",
        "epochs = 10000\n",
        "learning_rate = 0.0000001\n",
        "\n",
        "loss_history = []\n",
        "epoch_history = []\n",
        "\n",
        "# Gradient Descent\n",
        "for e in range(epochs):\n",
        "    ypred = lreg.forward(X_train) # computes the predicted values\n",
        "    loss = MSELoss(y_train, ypred) # computes the MSE loss between the actual and predicted values\n",
        "    # store the values of loss per epoch\n",
        "    if e==0 or (e+1)%100==0:\n",
        "        loss_history.append(loss)\n",
        "        epoch_history.append(e+1)\n",
        "        \n",
        "    \n",
        "    lreg.backward(X_train, ypred, y_train, learning_rate)\n",
        "\n",
        "print('Loss fuction decrease after ' + str(epochs) + ' epochs of training')\n",
        "#Plot the decrease in loss with epoch\n",
        "plt.plot(epoch_history, loss_history)\n",
        "plt.show()\n",
        "\n",
        "y_train_loss= MSELoss(y_train,lreg.forward(X_train))\n",
        "\n",
        "print('Final training loss: '+ str(y_train_loss))   \n",
        "\n",
        "print('Starting to test')\n",
        "ytest_pred= lreg.forward(X_test)\n",
        "loss= MSELoss(y_test,ytest_pred)\n",
        "print('Final test loss: ' + str(loss))\n"
      ],
      "execution_count": 6,
      "outputs": [
        {
          "output_type": "stream",
          "text": [
            "Starting Training with Gradient Descent\n",
            "Loss fuction decrease after 10000 epochs of training\n"
          ],
          "name": "stdout"
        },
        {
          "output_type": "display_data",
          "data": {
            "image/png": "[encoded data removed]",
            "text/plain": [
              "<Figure size 576x396 with 1 Axes>"
            ]
          },
          "metadata": {
            "tags": []
          }
        },
        {
          "output_type": "stream",
          "text": [
            "Final training loss: 124.73122753001937\n",
            "Starting to test\n",
            "Final test loss: 121.07114606545504\n"
          ],
          "name": "stdout"
        }
      ]
    },
    {
      "metadata": {
        "id": "qHzuxKfrQigp",
        "colab_type": "code",
        "colab": {}
      },
      "cell_type": "code",
      "source": [
        ""
      ],
      "execution_count": 0,
      "outputs": []
    }
  ]
}